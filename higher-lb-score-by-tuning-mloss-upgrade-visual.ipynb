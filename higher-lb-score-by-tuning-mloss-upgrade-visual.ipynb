{
 "cells": [
  {
   "cell_type": "markdown",
   "metadata": {
    "papermill": {
     "duration": 0.067929,
     "end_time": "2020-09-19T12:59:46.491415",
     "exception": false,
     "start_time": "2020-09-19T12:59:46.423486",
     "status": "completed"
    },
    "tags": []
   },
   "source": [
    "<a class=\"anchor\" id=\"0\"></a>\n",
    "# [OSIC Pulmonary Fibrosis Progression](https://www.kaggle.com/c/osic-pulmonary-fibrosis-progression)"
   ]
  },
  {
   "cell_type": "markdown",
   "metadata": {
    "papermill": {
     "duration": 0.065596,
     "end_time": "2020-09-19T12:59:46.623007",
     "exception": false,
     "start_time": "2020-09-19T12:59:46.557411",
     "status": "completed"
    },
    "tags": []
   },
   "source": [
    "### I use the notebook [Higher LB score by tuning mloss (around -6.811)](https://www.kaggle.com/reighns/higher-lb-score-by-tuning-mloss-around-6-811) from [Hongnan Gao](https://www.kaggle.com/reighns) as a basis and will try to tune its various parameters. \n",
    "\n",
    "#### From the first attempt, it was possible to improve the LB score"
   ]
  },
  {
   "cell_type": "markdown",
   "metadata": {
    "papermill": {
     "duration": 0.06732,
     "end_time": "2020-09-19T12:59:46.758053",
     "exception": false,
     "start_time": "2020-09-19T12:59:46.690733",
     "status": "completed"
    },
    "tags": []
   },
   "source": [
    "# Acknowledgements\n",
    "\n",
    "* Ulrich GOUE's Osic-Multiple-Quantile-Regression-Starter\n",
    "    - Model that uses images can be found at: https://www.kaggle.com/miklgr500/linear-decay-based-on-resnet-cnn\n",
    "* Michael Kazachok's Linear Decay (based on ResNet CNN)\n",
    "    - Model that uses tabular data can be found at: https://www.kaggle.com/ulrich07/osic-multiple-quantile-regression-starter\n",
    "* Replaced Michael's model with EfficientNets B0, B2, B4\n",
    "* Tuning the parameters of the models from https://www.kaggle.com/reighns/higher-lb-score-by-tuning-mloss \n",
    "* https://www.kaggle.com/leoisleo1/efficientnets-quantile-regression-inference\n",
    "* https://www.kaggle.com/khoongweihao/efficientnets-quantile-regression-inference"
   ]
  },
  {
   "cell_type": "markdown",
   "metadata": {
    "papermill": {
     "duration": 0.065526,
     "end_time": "2020-09-19T12:59:46.889995",
     "exception": false,
     "start_time": "2020-09-19T12:59:46.824469",
     "status": "completed"
    },
    "tags": []
   },
   "source": [
    "<a class=\"anchor\" id=\"0.1\"></a>\n",
    "## Table of Contents\n",
    "\n",
    "1. [Import libraries](#1)\n",
    "1. [My upgrade](#2)\n",
    "    -  [Commit now](#2.1)\n",
    "    -  [Previous commits](#2.2)\n",
    "    -  [Parameters and LB score visualization](#2.3)\n",
    "1. [Download data, auxiliary functions and model tuning](#3)\n",
    "1. [Prediction and submission](#4)\n",
    "    -  [Average prediction](#4.1)\n",
    "    -  [Osic-Multiple-Quantile-Regression](#4.2)\n",
    "    -  [The change of mloss](#4.3) \n",
    "    -  [Ensemble and blending](#4.4)"
   ]
  },
  {
   "cell_type": "markdown",
   "metadata": {
    "papermill": {
     "duration": 0.065848,
     "end_time": "2020-09-19T12:59:47.022276",
     "exception": false,
     "start_time": "2020-09-19T12:59:46.956428",
     "status": "completed"
    },
    "tags": []
   },
   "source": [
    "## 1. Import libraries <a class=\"anchor\" id=\"1\"></a>\n",
    "\n",
    "[Back to Table of Contents](#0.1)"
   ]
  },
  {
   "cell_type": "code",
   "execution_count": 1,
   "metadata": {
    "_kg_hide-output": true,
    "execution": {
     "iopub.execute_input": "2020-09-19T12:59:47.181814Z",
     "iopub.status.busy": "2020-09-19T12:59:47.180248Z",
     "iopub.status.idle": "2020-09-19T13:00:06.929735Z",
     "shell.execute_reply": "2020-09-19T13:00:06.928055Z"
    },
    "papermill": {
     "duration": 19.84142,
     "end_time": "2020-09-19T13:00:06.929868",
     "exception": false,
     "start_time": "2020-09-19T12:59:47.088448",
     "status": "completed"
    },
    "tags": []
   },
   "outputs": [
    {
     "name": "stdout",
     "output_type": "stream",
     "text": [
      "Looking in links: ./\r\n",
      "Processing /kaggle/input/kerasapplications/keras-team-keras-applications-3b180cb\r\n",
      "Requirement already satisfied: numpy>=1.9.1 in /opt/conda/lib/python3.7/site-packages (from Keras-Applications==1.0.8) (1.18.5)\r\n",
      "Requirement already satisfied: h5py in /opt/conda/lib/python3.7/site-packages (from Keras-Applications==1.0.8) (2.10.0)\r\n",
      "Requirement already satisfied: six in /opt/conda/lib/python3.7/site-packages (from h5py->Keras-Applications==1.0.8) (1.14.0)\r\n",
      "Building wheels for collected packages: Keras-Applications\r\n",
      "  Building wheel for Keras-Applications (setup.py) ... \u001b[?25l-\b \b\\\b \bdone\r\n",
      "\u001b[?25h  Created wheel for Keras-Applications: filename=Keras_Applications-1.0.8-py3-none-any.whl size=50704 sha256=f019a987e11814c783a5ffd99315ef2ee3f28aa8655a5d69b290d1b6b100a14f\r\n",
      "  Stored in directory: /root/.cache/pip/wheels/f4/96/13/eccdd9391bd8df958d78851b98ec4dc207ba05b67b011eb70a\r\n",
      "Successfully built Keras-Applications\r\n",
      "Installing collected packages: Keras-Applications\r\n",
      "Successfully installed Keras-Applications-1.0.8\r\n",
      "Looking in links: ./\r\n",
      "Processing /kaggle/input/efficientnet/efficientnet-1.1.0\r\n",
      "Requirement already satisfied: keras_applications<=1.0.8,>=1.0.7 in /opt/conda/lib/python3.7/site-packages (from efficientnet==1.1.0) (1.0.8)\r\n",
      "Requirement already satisfied: scikit-image in /opt/conda/lib/python3.7/site-packages (from efficientnet==1.1.0) (0.16.2)\r\n",
      "Requirement already satisfied: h5py in /opt/conda/lib/python3.7/site-packages (from keras_applications<=1.0.8,>=1.0.7->efficientnet==1.1.0) (2.10.0)\r\n",
      "Requirement already satisfied: numpy>=1.9.1 in /opt/conda/lib/python3.7/site-packages (from keras_applications<=1.0.8,>=1.0.7->efficientnet==1.1.0) (1.18.5)\r\n",
      "Requirement already satisfied: scipy>=0.19.0 in /opt/conda/lib/python3.7/site-packages (from scikit-image->efficientnet==1.1.0) (1.4.1)\r\n",
      "Requirement already satisfied: matplotlib!=3.0.0,>=2.0.0 in /opt/conda/lib/python3.7/site-packages (from scikit-image->efficientnet==1.1.0) (3.2.1)\r\n",
      "Requirement already satisfied: networkx>=2.0 in /opt/conda/lib/python3.7/site-packages (from scikit-image->efficientnet==1.1.0) (2.4)\r\n",
      "Requirement already satisfied: pillow>=4.3.0 in /opt/conda/lib/python3.7/site-packages (from scikit-image->efficientnet==1.1.0) (7.2.0)\r\n",
      "Requirement already satisfied: imageio>=2.3.0 in /opt/conda/lib/python3.7/site-packages (from scikit-image->efficientnet==1.1.0) (2.8.0)\r\n",
      "Requirement already satisfied: PyWavelets>=0.4.0 in /opt/conda/lib/python3.7/site-packages (from scikit-image->efficientnet==1.1.0) (1.1.1)\r\n",
      "Requirement already satisfied: six in /opt/conda/lib/python3.7/site-packages (from h5py->keras_applications<=1.0.8,>=1.0.7->efficientnet==1.1.0) (1.14.0)\r\n",
      "Requirement already satisfied: kiwisolver>=1.0.1 in /opt/conda/lib/python3.7/site-packages (from matplotlib!=3.0.0,>=2.0.0->scikit-image->efficientnet==1.1.0) (1.2.0)\r\n",
      "Requirement already satisfied: python-dateutil>=2.1 in /opt/conda/lib/python3.7/site-packages (from matplotlib!=3.0.0,>=2.0.0->scikit-image->efficientnet==1.1.0) (2.8.1)\r\n",
      "Requirement already satisfied: pyparsing!=2.0.4,!=2.1.2,!=2.1.6,>=2.0.1 in /opt/conda/lib/python3.7/site-packages (from matplotlib!=3.0.0,>=2.0.0->scikit-image->efficientnet==1.1.0) (2.4.7)\r\n",
      "Requirement already satisfied: cycler>=0.10 in /opt/conda/lib/python3.7/site-packages (from matplotlib!=3.0.0,>=2.0.0->scikit-image->efficientnet==1.1.0) (0.10.0)\r\n",
      "Requirement already satisfied: decorator>=4.3.0 in /opt/conda/lib/python3.7/site-packages (from networkx>=2.0->scikit-image->efficientnet==1.1.0) (4.4.2)\r\n",
      "Building wheels for collected packages: efficientnet\r\n",
      "  Building wheel for efficientnet (setup.py) ... \u001b[?25l-\b \b\\\b \bdone\r\n",
      "\u001b[?25h  Created wheel for efficientnet: filename=efficientnet-1.1.0-py3-none-any.whl size=14141 sha256=b7bec9064575745c87a2e676b8e8fd51e3e36470786f77b4869418dcd53b140a\r\n",
      "  Stored in directory: /root/.cache/pip/wheels/24/f5/31/3cc20871288fe532128224a3f5af7b4d67efb9835bd5683522\r\n",
      "Successfully built efficientnet\r\n",
      "Installing collected packages: efficientnet\r\n",
      "Successfully installed efficientnet-1.1.0\r\n"
     ]
    }
   ],
   "source": [
    "!pip install ../input/kerasapplications/keras-team-keras-applications-3b180cb -f ./ --no-index\n",
    "!pip install ../input/efficientnet/efficientnet-1.1.0/ -f ./ --no-index"
   ]
  },
  {
   "cell_type": "code",
   "execution_count": 2,
   "metadata": {
    "_kg_hide-input": true,
    "_kg_hide-output": true,
    "execution": {
     "iopub.execute_input": "2020-09-19T13:00:07.088186Z",
     "iopub.status.busy": "2020-09-19T13:00:07.086806Z",
     "iopub.status.idle": "2020-09-19T13:00:14.837842Z",
     "shell.execute_reply": "2020-09-19T13:00:14.836692Z"
    },
    "papermill": {
     "duration": 7.833046,
     "end_time": "2020-09-19T13:00:14.837995",
     "exception": false,
     "start_time": "2020-09-19T13:00:07.004949",
     "status": "completed"
    },
    "tags": []
   },
   "outputs": [],
   "source": [
    "import os\n",
    "import cv2\n",
    "import pydicom\n",
    "import pandas as pd\n",
    "import numpy as np \n",
    "import tensorflow as tf \n",
    "import matplotlib.pyplot as plt \n",
    "import random\n",
    "from tqdm.notebook import tqdm \n",
    "from sklearn.model_selection import train_test_split, KFold\n",
    "from sklearn.metrics import mean_absolute_error\n",
    "from tensorflow_addons.optimizers import RectifiedAdam\n",
    "from tensorflow.keras import Model\n",
    "import tensorflow.keras.backend as K\n",
    "import tensorflow.keras.layers as L\n",
    "import tensorflow.keras.models as M\n",
    "from tensorflow.keras.optimizers import Nadam\n",
    "import seaborn as sns\n",
    "import plotly.express as px\n",
    "import plotly.graph_objects as go\n",
    "from PIL import Image"
   ]
  },
  {
   "cell_type": "code",
   "execution_count": 3,
   "metadata": {
    "execution": {
     "iopub.execute_input": "2020-09-19T13:00:14.990232Z",
     "iopub.status.busy": "2020-09-19T13:00:14.988766Z",
     "iopub.status.idle": "2020-09-19T13:00:14.991024Z",
     "shell.execute_reply": "2020-09-19T13:00:14.991538Z"
    },
    "papermill": {
     "duration": 0.081378,
     "end_time": "2020-09-19T13:00:14.991696",
     "exception": false,
     "start_time": "2020-09-19T13:00:14.910318",
     "status": "completed"
    },
    "tags": []
   },
   "outputs": [],
   "source": [
    "def seed_everything(seed=2020):\n",
    "    random.seed(seed)\n",
    "    os.environ['PYTHONHASHSEED'] = str(seed)\n",
    "    np.random.seed(seed)\n",
    "    tf.random.set_seed(seed)"
   ]
  },
  {
   "cell_type": "code",
   "execution_count": 4,
   "metadata": {
    "execution": {
     "iopub.execute_input": "2020-09-19T13:00:15.148330Z",
     "iopub.status.busy": "2020-09-19T13:00:15.147513Z",
     "iopub.status.idle": "2020-09-19T13:00:15.151683Z",
     "shell.execute_reply": "2020-09-19T13:00:15.151080Z"
    },
    "papermill": {
     "duration": 0.08673,
     "end_time": "2020-09-19T13:00:15.151796",
     "exception": false,
     "start_time": "2020-09-19T13:00:15.065066",
     "status": "completed"
    },
    "tags": []
   },
   "outputs": [],
   "source": [
    "seed_everything(42)"
   ]
  },
  {
   "cell_type": "code",
   "execution_count": 5,
   "metadata": {
    "_kg_hide-input": true,
    "_kg_hide-output": true,
    "execution": {
     "iopub.execute_input": "2020-09-19T13:00:15.307949Z",
     "iopub.status.busy": "2020-09-19T13:00:15.307162Z",
     "iopub.status.idle": "2020-09-19T13:00:18.267849Z",
     "shell.execute_reply": "2020-09-19T13:00:18.266838Z"
    },
    "papermill": {
     "duration": 3.039017,
     "end_time": "2020-09-19T13:00:18.267996",
     "exception": false,
     "start_time": "2020-09-19T13:00:15.228979",
     "status": "completed"
    },
    "tags": []
   },
   "outputs": [],
   "source": [
    "config = tf.compat.v1.ConfigProto()\n",
    "config.gpu_options.allow_growth = True\n",
    "session = tf.compat.v1.Session(config=config)"
   ]
  },
  {
   "cell_type": "markdown",
   "metadata": {
    "papermill": {
     "duration": 0.073322,
     "end_time": "2020-09-19T13:00:18.417817",
     "exception": false,
     "start_time": "2020-09-19T13:00:18.344495",
     "status": "completed"
    },
    "tags": []
   },
   "source": [
    "## 2. My upgrade <a class=\"anchor\" id=\"2\"></a>\n",
    "\n",
    "[Back to Table of Contents](#0.1)"
   ]
  },
  {
   "cell_type": "markdown",
   "metadata": {
    "papermill": {
     "duration": 0.072969,
     "end_time": "2020-09-19T13:00:18.566419",
     "exception": false,
     "start_time": "2020-09-19T13:00:18.493450",
     "status": "completed"
    },
    "tags": []
   },
   "source": [
    "## 2.1. Commit now <a class=\"anchor\" id=\"2.1\"></a>\n",
    "\n",
    "[Back to Table of Contents](#0.1)"
   ]
  },
  {
   "cell_type": "code",
   "execution_count": 6,
   "metadata": {
    "execution": {
     "iopub.execute_input": "2020-09-19T13:00:18.761531Z",
     "iopub.status.busy": "2020-09-19T13:00:18.760525Z",
     "iopub.status.idle": "2020-09-19T13:00:18.763365Z",
     "shell.execute_reply": "2020-09-19T13:00:18.762406Z"
    },
    "papermill": {
     "duration": 0.124628,
     "end_time": "2020-09-19T13:00:18.763545",
     "exception": false,
     "start_time": "2020-09-19T13:00:18.638917",
     "status": "completed"
    },
    "tags": []
   },
   "outputs": [],
   "source": [
    "Dropout_model = 0.38\n",
    "FVC_weight = 0.21\n",
    "Confidence_weight = 0.21"
   ]
  },
  {
   "cell_type": "markdown",
   "metadata": {
    "papermill": {
     "duration": 0.103058,
     "end_time": "2020-09-19T13:00:18.975126",
     "exception": false,
     "start_time": "2020-09-19T13:00:18.872068",
     "status": "completed"
    },
    "tags": []
   },
   "source": [
    "## 2.2 Previous commits <a class=\"anchor\" id=\"2.2\"></a>\n",
    "\n",
    "[Back to Table of Contents](#0.1)"
   ]
  },
  {
   "cell_type": "code",
   "execution_count": 7,
   "metadata": {
    "_kg_hide-input": true,
    "execution": {
     "iopub.execute_input": "2020-09-19T13:00:19.186705Z",
     "iopub.status.busy": "2020-09-19T13:00:19.185800Z",
     "iopub.status.idle": "2020-09-19T13:00:19.189818Z",
     "shell.execute_reply": "2020-09-19T13:00:19.189219Z"
    },
    "papermill": {
     "duration": 0.106752,
     "end_time": "2020-09-19T13:00:19.189944",
     "exception": false,
     "start_time": "2020-09-19T13:00:19.083192",
     "status": "completed"
    },
    "tags": []
   },
   "outputs": [],
   "source": [
    "commits_df = pd.DataFrame(columns = ['commit_num', 'FVC_weight', 'Dropout_model', 'LB_score', 'seed'])"
   ]
  },
  {
   "cell_type": "markdown",
   "metadata": {
    "papermill": {
     "duration": 0.080388,
     "end_time": "2020-09-19T13:00:19.345815",
     "exception": false,
     "start_time": "2020-09-19T13:00:19.265427",
     "status": "completed"
    },
    "tags": []
   },
   "source": [
    "### seed_everything\n",
    "* Commits 1-21, 24...: seed_everything = 42\n",
    "* Commit 23: seed_everything = 0"
   ]
  },
  {
   "cell_type": "markdown",
   "metadata": {
    "papermill": {
     "duration": 0.073983,
     "end_time": "2020-09-19T13:00:19.494187",
     "exception": false,
     "start_time": "2020-09-19T13:00:19.420204",
     "status": "completed"
    },
    "tags": []
   },
   "source": [
    "### Commit 1 (parameters from https://www.kaggle.com/reighns/higher-lb-score-by-tuning-mloss)\n",
    "\n",
    "* Dropout_model = 0.4\n",
    "* FVC_weight = 0.25\n",
    "* Confidence_weight = 0.26\n",
    "\n",
    "LB = -6.8111"
   ]
  },
  {
   "cell_type": "code",
   "execution_count": 8,
   "metadata": {
    "_kg_hide-input": true,
    "execution": {
     "iopub.execute_input": "2020-09-19T13:00:19.660377Z",
     "iopub.status.busy": "2020-09-19T13:00:19.659583Z",
     "iopub.status.idle": "2020-09-19T13:00:19.663555Z",
     "shell.execute_reply": "2020-09-19T13:00:19.662968Z"
    },
    "papermill": {
     "duration": 0.093678,
     "end_time": "2020-09-19T13:00:19.663676",
     "exception": false,
     "start_time": "2020-09-19T13:00:19.569998",
     "status": "completed"
    },
    "tags": []
   },
   "outputs": [],
   "source": [
    "n=0\n",
    "commits_df.loc[n,'commit_num'] = 1\n",
    "commits_df.loc[n,'Dropout_model'] = 0.4\n",
    "commits_df.loc[n,'FVC_weight'] = 0.25\n",
    "commits_df.loc[n,'LB_score'] = -6.8111"
   ]
  },
  {
   "cell_type": "markdown",
   "metadata": {
    "papermill": {
     "duration": 0.076151,
     "end_time": "2020-09-19T13:00:19.815582",
     "exception": false,
     "start_time": "2020-09-19T13:00:19.739431",
     "status": "completed"
    },
    "tags": []
   },
   "source": [
    "### Commit 4\n",
    "\n",
    "* Dropout_model = 0.36\n",
    "* FVC_weight = 0.25\n",
    "* Confidence_weight = 0.26\n",
    "\n",
    "LB = -6.8105"
   ]
  },
  {
   "cell_type": "code",
   "execution_count": 9,
   "metadata": {
    "_kg_hide-input": true,
    "execution": {
     "iopub.execute_input": "2020-09-19T13:00:19.977046Z",
     "iopub.status.busy": "2020-09-19T13:00:19.976126Z",
     "iopub.status.idle": "2020-09-19T13:00:19.980399Z",
     "shell.execute_reply": "2020-09-19T13:00:19.979879Z"
    },
    "papermill": {
     "duration": 0.088928,
     "end_time": "2020-09-19T13:00:19.980516",
     "exception": false,
     "start_time": "2020-09-19T13:00:19.891588",
     "status": "completed"
    },
    "tags": []
   },
   "outputs": [],
   "source": [
    "n=1\n",
    "commits_df.loc[n,'commit_num'] = 4\n",
    "commits_df.loc[n,'Dropout_model'] = 0.36\n",
    "commits_df.loc[n,'FVC_weight'] = 0.25\n",
    "commits_df.loc[n,'LB_score'] = -6.8105"
   ]
  },
  {
   "cell_type": "markdown",
   "metadata": {
    "papermill": {
     "duration": 0.077111,
     "end_time": "2020-09-19T13:00:20.132562",
     "exception": false,
     "start_time": "2020-09-19T13:00:20.055451",
     "status": "completed"
    },
    "tags": []
   },
   "source": [
    "### Commit 6\n",
    "\n",
    "* Dropout_model = 0.36\n",
    "* FVC_weight = 0.35\n",
    "* Confidence_weight = 0.36\n",
    "\n",
    "LB = -6.8158"
   ]
  },
  {
   "cell_type": "code",
   "execution_count": 10,
   "metadata": {
    "_kg_hide-input": true,
    "execution": {
     "iopub.execute_input": "2020-09-19T13:00:20.294117Z",
     "iopub.status.busy": "2020-09-19T13:00:20.293245Z",
     "iopub.status.idle": "2020-09-19T13:00:20.297535Z",
     "shell.execute_reply": "2020-09-19T13:00:20.296959Z"
    },
    "papermill": {
     "duration": 0.087955,
     "end_time": "2020-09-19T13:00:20.297644",
     "exception": false,
     "start_time": "2020-09-19T13:00:20.209689",
     "status": "completed"
    },
    "tags": []
   },
   "outputs": [],
   "source": [
    "n=2\n",
    "commits_df.loc[n,'commit_num'] = 6\n",
    "commits_df.loc[n,'Dropout_model'] = 0.36\n",
    "commits_df.loc[n,'FVC_weight'] = 0.35\n",
    "commits_df.loc[n,'LB_score'] = -6.8158"
   ]
  },
  {
   "cell_type": "markdown",
   "metadata": {
    "papermill": {
     "duration": 0.073068,
     "end_time": "2020-09-19T13:00:20.443423",
     "exception": false,
     "start_time": "2020-09-19T13:00:20.370355",
     "status": "completed"
    },
    "tags": []
   },
   "source": [
    "### Commit 8\n",
    "\n",
    "* Dropout_model = 0.35\n",
    "* FVC_weight = 0.25\n",
    "* Confidence_weight = 0.26\n",
    "\n",
    "LB = -6.8107"
   ]
  },
  {
   "cell_type": "code",
   "execution_count": 11,
   "metadata": {
    "_kg_hide-input": true,
    "execution": {
     "iopub.execute_input": "2020-09-19T13:00:20.600886Z",
     "iopub.status.busy": "2020-09-19T13:00:20.600116Z",
     "iopub.status.idle": "2020-09-19T13:00:20.604552Z",
     "shell.execute_reply": "2020-09-19T13:00:20.603975Z"
    },
    "papermill": {
     "duration": 0.08814,
     "end_time": "2020-09-19T13:00:20.604659",
     "exception": false,
     "start_time": "2020-09-19T13:00:20.516519",
     "status": "completed"
    },
    "tags": []
   },
   "outputs": [],
   "source": [
    "n=3\n",
    "commits_df.loc[n,'commit_num'] = 8\n",
    "commits_df.loc[n,'Dropout_model'] = 0.35\n",
    "commits_df.loc[n,'FVC_weight'] = 0.25\n",
    "commits_df.loc[n,'LB_score'] = -6.8107"
   ]
  },
  {
   "cell_type": "markdown",
   "metadata": {
    "papermill": {
     "duration": 0.074343,
     "end_time": "2020-09-19T13:00:20.753080",
     "exception": false,
     "start_time": "2020-09-19T13:00:20.678737",
     "status": "completed"
    },
    "tags": []
   },
   "source": [
    "### Commit 9\n",
    "\n",
    "* Dropout_model = 0.35\n",
    "* FVC_weight = 0.3\n",
    "* Confidence_weight = 0.3\n",
    "\n",
    "LB = -6.8125"
   ]
  },
  {
   "cell_type": "code",
   "execution_count": 12,
   "metadata": {
    "_kg_hide-input": true,
    "execution": {
     "iopub.execute_input": "2020-09-19T13:00:20.913977Z",
     "iopub.status.busy": "2020-09-19T13:00:20.911962Z",
     "iopub.status.idle": "2020-09-19T13:00:20.914698Z",
     "shell.execute_reply": "2020-09-19T13:00:20.915229Z"
    },
    "papermill": {
     "duration": 0.08662,
     "end_time": "2020-09-19T13:00:20.915369",
     "exception": false,
     "start_time": "2020-09-19T13:00:20.828749",
     "status": "completed"
    },
    "tags": []
   },
   "outputs": [],
   "source": [
    "n=4\n",
    "commits_df.loc[n,'commit_num'] = 9\n",
    "commits_df.loc[n,'Dropout_model'] = 0.35\n",
    "commits_df.loc[n,'FVC_weight'] = 0.3\n",
    "commits_df.loc[n,'LB_score'] = -6.8125"
   ]
  },
  {
   "cell_type": "markdown",
   "metadata": {
    "papermill": {
     "duration": 0.075608,
     "end_time": "2020-09-19T13:00:21.066543",
     "exception": false,
     "start_time": "2020-09-19T13:00:20.990935",
     "status": "completed"
    },
    "tags": []
   },
   "source": [
    "### Commit 10\n",
    "\n",
    "* Dropout_model = 0.36\n",
    "* FVC_weight = 0.2\n",
    "* Confidence_weight = 0.2\n",
    "\n",
    "LB = -6.8089"
   ]
  },
  {
   "cell_type": "code",
   "execution_count": 13,
   "metadata": {
    "_kg_hide-input": true,
    "execution": {
     "iopub.execute_input": "2020-09-19T13:00:21.227889Z",
     "iopub.status.busy": "2020-09-19T13:00:21.227041Z",
     "iopub.status.idle": "2020-09-19T13:00:21.230878Z",
     "shell.execute_reply": "2020-09-19T13:00:21.231350Z"
    },
    "papermill": {
     "duration": 0.089839,
     "end_time": "2020-09-19T13:00:21.231484",
     "exception": false,
     "start_time": "2020-09-19T13:00:21.141645",
     "status": "completed"
    },
    "tags": []
   },
   "outputs": [],
   "source": [
    "n=5\n",
    "commits_df.loc[n,'commit_num'] = 10\n",
    "commits_df.loc[n,'Dropout_model'] = 0.36\n",
    "commits_df.loc[n,'FVC_weight'] = 0.2\n",
    "commits_df.loc[n,'LB_score'] = -6.8089"
   ]
  },
  {
   "cell_type": "markdown",
   "metadata": {
    "papermill": {
     "duration": 0.075254,
     "end_time": "2020-09-19T13:00:21.381796",
     "exception": false,
     "start_time": "2020-09-19T13:00:21.306542",
     "status": "completed"
    },
    "tags": []
   },
   "source": [
    "### Commit 11\n",
    "\n",
    "* Dropout_model = 0.36\n",
    "* FVC_weight = 0.15\n",
    "* Confidence_weight = 0.15\n",
    "\n",
    "LB = -6.8100"
   ]
  },
  {
   "cell_type": "code",
   "execution_count": 14,
   "metadata": {
    "_kg_hide-input": true,
    "execution": {
     "iopub.execute_input": "2020-09-19T13:00:21.543152Z",
     "iopub.status.busy": "2020-09-19T13:00:21.542269Z",
     "iopub.status.idle": "2020-09-19T13:00:21.546427Z",
     "shell.execute_reply": "2020-09-19T13:00:21.545869Z"
    },
    "papermill": {
     "duration": 0.089598,
     "end_time": "2020-09-19T13:00:21.546538",
     "exception": false,
     "start_time": "2020-09-19T13:00:21.456940",
     "status": "completed"
    },
    "tags": []
   },
   "outputs": [],
   "source": [
    "n=6\n",
    "commits_df.loc[n,'commit_num'] = 11\n",
    "commits_df.loc[n,'Dropout_model'] = 0.36\n",
    "commits_df.loc[n,'FVC_weight'] = 0.15\n",
    "commits_df.loc[n,'LB_score'] = -6.8100"
   ]
  },
  {
   "cell_type": "markdown",
   "metadata": {
    "papermill": {
     "duration": 0.075569,
     "end_time": "2020-09-19T13:00:21.697773",
     "exception": false,
     "start_time": "2020-09-19T13:00:21.622204",
     "status": "completed"
    },
    "tags": []
   },
   "source": [
    "### Commit 13\n",
    "\n",
    "* Dropout_model = 0.36\n",
    "* FVC_weight = 0.175\n",
    "* Confidence_weight = 0.175\n",
    "\n",
    "LB = -6.8096"
   ]
  },
  {
   "cell_type": "code",
   "execution_count": 15,
   "metadata": {
    "_kg_hide-input": true,
    "execution": {
     "iopub.execute_input": "2020-09-19T13:00:21.857973Z",
     "iopub.status.busy": "2020-09-19T13:00:21.857106Z",
     "iopub.status.idle": "2020-09-19T13:00:21.860756Z",
     "shell.execute_reply": "2020-09-19T13:00:21.861215Z"
    },
    "papermill": {
     "duration": 0.087694,
     "end_time": "2020-09-19T13:00:21.861368",
     "exception": false,
     "start_time": "2020-09-19T13:00:21.773674",
     "status": "completed"
    },
    "tags": []
   },
   "outputs": [],
   "source": [
    "n=7\n",
    "commits_df.loc[n,'commit_num'] = 13\n",
    "commits_df.loc[n,'Dropout_model'] = 0.36\n",
    "commits_df.loc[n,'FVC_weight'] = 0.175\n",
    "commits_df.loc[n,'LB_score'] = -6.8096"
   ]
  },
  {
   "cell_type": "markdown",
   "metadata": {
    "papermill": {
     "duration": 0.07549,
     "end_time": "2020-09-19T13:00:22.013254",
     "exception": false,
     "start_time": "2020-09-19T13:00:21.937764",
     "status": "completed"
    },
    "tags": []
   },
   "source": [
    "### Commit 14\n",
    "\n",
    "* Dropout_model = 0.36\n",
    "* FVC_weight = 0.225\n",
    "* Confidence_weight = 0.225\n",
    "\n",
    "LB = -6.8100"
   ]
  },
  {
   "cell_type": "code",
   "execution_count": 16,
   "metadata": {
    "_kg_hide-input": true,
    "execution": {
     "iopub.execute_input": "2020-09-19T13:00:22.176280Z",
     "iopub.status.busy": "2020-09-19T13:00:22.175477Z",
     "iopub.status.idle": "2020-09-19T13:00:22.178733Z",
     "shell.execute_reply": "2020-09-19T13:00:22.178214Z"
    },
    "papermill": {
     "duration": 0.089827,
     "end_time": "2020-09-19T13:00:22.178843",
     "exception": false,
     "start_time": "2020-09-19T13:00:22.089016",
     "status": "completed"
    },
    "tags": []
   },
   "outputs": [],
   "source": [
    "n=8\n",
    "commits_df.loc[n,'commit_num'] = 14\n",
    "commits_df.loc[n,'Dropout_model'] = 0.36\n",
    "commits_df.loc[n,'FVC_weight'] = 0.225\n",
    "commits_df.loc[n,'LB_score'] = -6.8100"
   ]
  },
  {
   "cell_type": "markdown",
   "metadata": {
    "papermill": {
     "duration": 0.076805,
     "end_time": "2020-09-19T13:00:22.334840",
     "exception": false,
     "start_time": "2020-09-19T13:00:22.258035",
     "status": "completed"
    },
    "tags": []
   },
   "source": [
    "### Commit 15\n",
    "\n",
    "* Dropout_model = 0.32\n",
    "* FVC_weight = 0.2\n",
    "* Confidence_weight = 0.2\n",
    "\n",
    "LB = -6.8092"
   ]
  },
  {
   "cell_type": "code",
   "execution_count": 17,
   "metadata": {
    "_kg_hide-input": true,
    "execution": {
     "iopub.execute_input": "2020-09-19T13:00:22.531887Z",
     "iopub.status.busy": "2020-09-19T13:00:22.531193Z",
     "iopub.status.idle": "2020-09-19T13:00:22.535034Z",
     "shell.execute_reply": "2020-09-19T13:00:22.534535Z"
    },
    "papermill": {
     "duration": 0.086257,
     "end_time": "2020-09-19T13:00:22.535129",
     "exception": false,
     "start_time": "2020-09-19T13:00:22.448872",
     "status": "completed"
    },
    "tags": []
   },
   "outputs": [],
   "source": [
    "n=9\n",
    "commits_df.loc[n,'commit_num'] = 15\n",
    "commits_df.loc[n,'Dropout_model'] = 0.32\n",
    "commits_df.loc[n,'FVC_weight'] = 0.2\n",
    "commits_df.loc[n,'LB_score'] = -6.8092"
   ]
  },
  {
   "cell_type": "markdown",
   "metadata": {
    "papermill": {
     "duration": 0.0753,
     "end_time": "2020-09-19T13:00:22.688450",
     "exception": false,
     "start_time": "2020-09-19T13:00:22.613150",
     "status": "completed"
    },
    "tags": []
   },
   "source": [
    "### Commit 16\n",
    "\n",
    "* Dropout_model = 0.25\n",
    "* FVC_weight = 0.2\n",
    "* Confidence_weight = 0.2\n",
    "\n",
    "LB = -6.8093"
   ]
  },
  {
   "cell_type": "code",
   "execution_count": 18,
   "metadata": {
    "_kg_hide-input": true,
    "execution": {
     "iopub.execute_input": "2020-09-19T13:00:22.846450Z",
     "iopub.status.busy": "2020-09-19T13:00:22.845544Z",
     "iopub.status.idle": "2020-09-19T13:00:22.848820Z",
     "shell.execute_reply": "2020-09-19T13:00:22.848204Z"
    },
    "papermill": {
     "duration": 0.085628,
     "end_time": "2020-09-19T13:00:22.848925",
     "exception": false,
     "start_time": "2020-09-19T13:00:22.763297",
     "status": "completed"
    },
    "tags": []
   },
   "outputs": [],
   "source": [
    "n=10\n",
    "commits_df.loc[n,'commit_num'] = 16\n",
    "commits_df.loc[n,'Dropout_model'] = 0.25\n",
    "commits_df.loc[n,'FVC_weight'] = 0.2\n",
    "commits_df.loc[n,'LB_score'] = -6.8093"
   ]
  },
  {
   "cell_type": "markdown",
   "metadata": {
    "papermill": {
     "duration": 0.07591,
     "end_time": "2020-09-19T13:00:23.000427",
     "exception": false,
     "start_time": "2020-09-19T13:00:22.924517",
     "status": "completed"
    },
    "tags": []
   },
   "source": [
    "### Commit 17\n",
    "\n",
    "* Dropout_model = 0.25\n",
    "* FVC_weight = 0.5\n",
    "* Confidence_weight = 0.5\n",
    "\n",
    "LB = -6.8283"
   ]
  },
  {
   "cell_type": "code",
   "execution_count": 19,
   "metadata": {
    "_kg_hide-input": true,
    "execution": {
     "iopub.execute_input": "2020-09-19T13:00:23.163426Z",
     "iopub.status.busy": "2020-09-19T13:00:23.162372Z",
     "iopub.status.idle": "2020-09-19T13:00:23.165650Z",
     "shell.execute_reply": "2020-09-19T13:00:23.165091Z"
    },
    "papermill": {
     "duration": 0.089352,
     "end_time": "2020-09-19T13:00:23.165774",
     "exception": false,
     "start_time": "2020-09-19T13:00:23.076422",
     "status": "completed"
    },
    "tags": []
   },
   "outputs": [],
   "source": [
    "n=11\n",
    "commits_df.loc[n,'commit_num'] = 17\n",
    "commits_df.loc[n,'Dropout_model'] = 0.25\n",
    "commits_df.loc[n,'FVC_weight'] = 0.5\n",
    "commits_df.loc[n,'LB_score'] = -6.8283"
   ]
  },
  {
   "cell_type": "markdown",
   "metadata": {
    "papermill": {
     "duration": 0.077635,
     "end_time": "2020-09-19T13:00:23.320712",
     "exception": false,
     "start_time": "2020-09-19T13:00:23.243077",
     "status": "completed"
    },
    "tags": []
   },
   "source": [
    "### Commit 18\n",
    "\n",
    "* Dropout_model = 0.38\n",
    "* FVC_weight = 0.2\n",
    "* Confidence_weight = 0.2\n",
    "\n",
    "LB = -6.8087"
   ]
  },
  {
   "cell_type": "code",
   "execution_count": 20,
   "metadata": {
    "_kg_hide-input": true,
    "execution": {
     "iopub.execute_input": "2020-09-19T13:00:23.481496Z",
     "iopub.status.busy": "2020-09-19T13:00:23.480495Z",
     "iopub.status.idle": "2020-09-19T13:00:23.483910Z",
     "shell.execute_reply": "2020-09-19T13:00:23.483305Z"
    },
    "papermill": {
     "duration": 0.088294,
     "end_time": "2020-09-19T13:00:23.484033",
     "exception": false,
     "start_time": "2020-09-19T13:00:23.395739",
     "status": "completed"
    },
    "tags": []
   },
   "outputs": [],
   "source": [
    "n=12\n",
    "commits_df.loc[n,'commit_num'] = 18\n",
    "commits_df.loc[n,'Dropout_model'] = 0.38\n",
    "commits_df.loc[n,'FVC_weight'] = 0.2\n",
    "commits_df.loc[n,'LB_score'] = -6.8087"
   ]
  },
  {
   "cell_type": "markdown",
   "metadata": {
    "papermill": {
     "duration": 0.12017,
     "end_time": "2020-09-19T13:00:23.680226",
     "exception": false,
     "start_time": "2020-09-19T13:00:23.560056",
     "status": "completed"
    },
    "tags": []
   },
   "source": [
    "### Commit 19\n",
    "\n",
    "* Dropout_model = 0.39\n",
    "* FVC_weight = 0.2\n",
    "* Confidence_weight = 0.2\n",
    "\n",
    "LB = -6.8090"
   ]
  },
  {
   "cell_type": "code",
   "execution_count": 21,
   "metadata": {
    "_kg_hide-input": true,
    "execution": {
     "iopub.execute_input": "2020-09-19T13:00:23.911617Z",
     "iopub.status.busy": "2020-09-19T13:00:23.910679Z",
     "iopub.status.idle": "2020-09-19T13:00:23.915446Z",
     "shell.execute_reply": "2020-09-19T13:00:23.916291Z"
    },
    "papermill": {
     "duration": 0.121162,
     "end_time": "2020-09-19T13:00:23.916479",
     "exception": false,
     "start_time": "2020-09-19T13:00:23.795317",
     "status": "completed"
    },
    "tags": []
   },
   "outputs": [],
   "source": [
    "n=13\n",
    "commits_df.loc[n,'commit_num'] = 19\n",
    "commits_df.loc[n,'Dropout_model'] = 0.39\n",
    "commits_df.loc[n,'FVC_weight'] = 0.2\n",
    "commits_df.loc[n,'LB_score'] = -6.8090"
   ]
  },
  {
   "cell_type": "markdown",
   "metadata": {
    "papermill": {
     "duration": 0.110424,
     "end_time": "2020-09-19T13:00:24.132999",
     "exception": false,
     "start_time": "2020-09-19T13:00:24.022575",
     "status": "completed"
    },
    "tags": []
   },
   "source": [
    "### Commit 20\n",
    "\n",
    "* Dropout_model = 0.37\n",
    "* FVC_weight = 0.2\n",
    "* Confidence_weight = 0.2\n",
    "\n",
    "LB = -6.8092"
   ]
  },
  {
   "cell_type": "code",
   "execution_count": 22,
   "metadata": {
    "_kg_hide-input": true,
    "execution": {
     "iopub.execute_input": "2020-09-19T13:00:24.333888Z",
     "iopub.status.busy": "2020-09-19T13:00:24.332979Z",
     "iopub.status.idle": "2020-09-19T13:00:24.336011Z",
     "shell.execute_reply": "2020-09-19T13:00:24.335546Z"
    },
    "papermill": {
     "duration": 0.099646,
     "end_time": "2020-09-19T13:00:24.336112",
     "exception": false,
     "start_time": "2020-09-19T13:00:24.236466",
     "status": "completed"
    },
    "tags": []
   },
   "outputs": [],
   "source": [
    "n=14\n",
    "commits_df.loc[n,'commit_num'] = 20\n",
    "commits_df.loc[n,'Dropout_model'] = 0.37\n",
    "commits_df.loc[n,'FVC_weight'] = 0.2\n",
    "commits_df.loc[n,'LB_score'] = -6.8092"
   ]
  },
  {
   "cell_type": "markdown",
   "metadata": {
    "papermill": {
     "duration": 0.075804,
     "end_time": "2020-09-19T13:00:24.487935",
     "exception": false,
     "start_time": "2020-09-19T13:00:24.412131",
     "status": "completed"
    },
    "tags": []
   },
   "source": [
    "### Commit 21\n",
    "\n",
    "* Dropout_model = 0.38\n",
    "* FVC_weight = 0.19\n",
    "* Confidence_weight = 0.19\n",
    "\n",
    "LB = -6.8093"
   ]
  },
  {
   "cell_type": "code",
   "execution_count": 23,
   "metadata": {
    "_kg_hide-input": true,
    "execution": {
     "iopub.execute_input": "2020-09-19T13:00:24.650411Z",
     "iopub.status.busy": "2020-09-19T13:00:24.649403Z",
     "iopub.status.idle": "2020-09-19T13:00:24.651984Z",
     "shell.execute_reply": "2020-09-19T13:00:24.652524Z"
    },
    "papermill": {
     "duration": 0.088062,
     "end_time": "2020-09-19T13:00:24.652655",
     "exception": false,
     "start_time": "2020-09-19T13:00:24.564593",
     "status": "completed"
    },
    "tags": []
   },
   "outputs": [],
   "source": [
    "n=15\n",
    "commits_df.loc[n,'commit_num'] = 21\n",
    "commits_df.loc[n,'Dropout_model'] = 0.38\n",
    "commits_df.loc[n,'FVC_weight'] = 0.19\n",
    "commits_df.loc[n,'LB_score'] = -6.8093"
   ]
  },
  {
   "cell_type": "markdown",
   "metadata": {
    "papermill": {
     "duration": 0.075683,
     "end_time": "2020-09-19T13:00:24.805746",
     "exception": false,
     "start_time": "2020-09-19T13:00:24.730063",
     "status": "completed"
    },
    "tags": []
   },
   "source": [
    "### Commit 23\n",
    "\n",
    "* Dropout_model = 0.38\n",
    "* FVC_weight = 0.2\n",
    "* Confidence_weight = 0.2\n",
    "\n",
    "LB = -6.8402"
   ]
  },
  {
   "cell_type": "code",
   "execution_count": 24,
   "metadata": {
    "_kg_hide-input": true,
    "execution": {
     "iopub.execute_input": "2020-09-19T13:00:24.966744Z",
     "iopub.status.busy": "2020-09-19T13:00:24.965846Z",
     "iopub.status.idle": "2020-09-19T13:00:24.968992Z",
     "shell.execute_reply": "2020-09-19T13:00:24.968462Z"
    },
    "papermill": {
     "duration": 0.08696,
     "end_time": "2020-09-19T13:00:24.969098",
     "exception": false,
     "start_time": "2020-09-19T13:00:24.882138",
     "status": "completed"
    },
    "tags": []
   },
   "outputs": [],
   "source": [
    "n=16\n",
    "commits_df.loc[n,'commit_num'] = 23\n",
    "commits_df.loc[n,'Dropout_model'] = 0.38\n",
    "commits_df.loc[n,'FVC_weight'] = 0.2\n",
    "commits_df.loc[n,'LB_score'] = -6.8402"
   ]
  },
  {
   "cell_type": "markdown",
   "metadata": {
    "papermill": {
     "duration": 0.079394,
     "end_time": "2020-09-19T13:00:25.125315",
     "exception": false,
     "start_time": "2020-09-19T13:00:25.045921",
     "status": "completed"
    },
    "tags": []
   },
   "source": [
    "### Commit 26\n",
    "\n",
    "* Dropout_model = 0.385\n",
    "* FVC_weight = 0.2\n",
    "* Confidence_weight = 0.2\n",
    "\n",
    "LB = -6.8092"
   ]
  },
  {
   "cell_type": "code",
   "execution_count": 25,
   "metadata": {
    "_kg_hide-input": false,
    "execution": {
     "iopub.execute_input": "2020-09-19T13:00:25.292980Z",
     "iopub.status.busy": "2020-09-19T13:00:25.292091Z",
     "iopub.status.idle": "2020-09-19T13:00:25.296796Z",
     "shell.execute_reply": "2020-09-19T13:00:25.296178Z"
    },
    "papermill": {
     "duration": 0.094258,
     "end_time": "2020-09-19T13:00:25.296910",
     "exception": false,
     "start_time": "2020-09-19T13:00:25.202652",
     "status": "completed"
    },
    "tags": []
   },
   "outputs": [],
   "source": [
    "n=17\n",
    "commits_df.loc[n,'commit_num'] = 26\n",
    "commits_df.loc[n,'Dropout_model'] = 0.385\n",
    "commits_df.loc[n,'FVC_weight'] = 0.2\n",
    "commits_df.loc[n,'LB_score'] = -6.8092"
   ]
  },
  {
   "cell_type": "markdown",
   "metadata": {
    "papermill": {
     "duration": 0.076731,
     "end_time": "2020-09-19T13:00:25.449662",
     "exception": false,
     "start_time": "2020-09-19T13:00:25.372931",
     "status": "completed"
    },
    "tags": []
   },
   "source": [
    "## 2.3 Parameters and LB score visualization <a class=\"anchor\" id=\"2.3\"></a>\n",
    "\n",
    "[Back to Table of Contents](#0.1)"
   ]
  },
  {
   "cell_type": "code",
   "execution_count": 26,
   "metadata": {
    "execution": {
     "iopub.execute_input": "2020-09-19T13:00:25.612734Z",
     "iopub.status.busy": "2020-09-19T13:00:25.610958Z",
     "iopub.status.idle": "2020-09-19T13:00:25.613506Z",
     "shell.execute_reply": "2020-09-19T13:00:25.613972Z"
    },
    "papermill": {
     "duration": 0.088244,
     "end_time": "2020-09-19T13:00:25.614108",
     "exception": false,
     "start_time": "2020-09-19T13:00:25.525864",
     "status": "completed"
    },
    "tags": []
   },
   "outputs": [],
   "source": [
    "# Find and mark maximum value of LB score\n",
    "commits_df['LB_score'] = pd.to_numeric(commits_df['LB_score'])\n",
    "commits_df['max'] = 0\n",
    "commits_df.loc[commits_df['LB_score'].idxmax(), 'max'] = 1"
   ]
  },
  {
   "cell_type": "code",
   "execution_count": 27,
   "metadata": {
    "execution": {
     "iopub.execute_input": "2020-09-19T13:00:25.774498Z",
     "iopub.status.busy": "2020-09-19T13:00:25.773837Z",
     "iopub.status.idle": "2020-09-19T13:00:25.778019Z",
     "shell.execute_reply": "2020-09-19T13:00:25.778551Z"
    },
    "papermill": {
     "duration": 0.088675,
     "end_time": "2020-09-19T13:00:25.778688",
     "exception": false,
     "start_time": "2020-09-19T13:00:25.690013",
     "status": "completed"
    },
    "tags": []
   },
   "outputs": [],
   "source": [
    "# Seed\n",
    "commits_df['seed'] = 42\n",
    "commits_df.loc[commits_df['commit_num'] == 23, 'seed'] = 0"
   ]
  },
  {
   "cell_type": "code",
   "execution_count": 28,
   "metadata": {
    "execution": {
     "iopub.execute_input": "2020-09-19T13:00:25.944662Z",
     "iopub.status.busy": "2020-09-19T13:00:25.943507Z",
     "iopub.status.idle": "2020-09-19T13:00:25.960385Z",
     "shell.execute_reply": "2020-09-19T13:00:25.959633Z"
    },
    "papermill": {
     "duration": 0.104886,
     "end_time": "2020-09-19T13:00:25.960514",
     "exception": false,
     "start_time": "2020-09-19T13:00:25.855628",
     "status": "completed"
    },
    "tags": []
   },
   "outputs": [
    {
     "data": {
      "text/html": [
       "<div>\n",
       "<style scoped>\n",
       "    .dataframe tbody tr th:only-of-type {\n",
       "        vertical-align: middle;\n",
       "    }\n",
       "\n",
       "    .dataframe tbody tr th {\n",
       "        vertical-align: top;\n",
       "    }\n",
       "\n",
       "    .dataframe thead th {\n",
       "        text-align: right;\n",
       "    }\n",
       "</style>\n",
       "<table border=\"1\" class=\"dataframe\">\n",
       "  <thead>\n",
       "    <tr style=\"text-align: right;\">\n",
       "      <th></th>\n",
       "      <th>commit_num</th>\n",
       "      <th>FVC_weight</th>\n",
       "      <th>Dropout_model</th>\n",
       "      <th>LB_score</th>\n",
       "      <th>seed</th>\n",
       "      <th>max</th>\n",
       "    </tr>\n",
       "  </thead>\n",
       "  <tbody>\n",
       "    <tr>\n",
       "      <th>0</th>\n",
       "      <td>1</td>\n",
       "      <td>0.25</td>\n",
       "      <td>0.4</td>\n",
       "      <td>-6.8111</td>\n",
       "      <td>42</td>\n",
       "      <td>0</td>\n",
       "    </tr>\n",
       "    <tr>\n",
       "      <th>1</th>\n",
       "      <td>4</td>\n",
       "      <td>0.25</td>\n",
       "      <td>0.36</td>\n",
       "      <td>-6.8105</td>\n",
       "      <td>42</td>\n",
       "      <td>0</td>\n",
       "    </tr>\n",
       "    <tr>\n",
       "      <th>2</th>\n",
       "      <td>6</td>\n",
       "      <td>0.35</td>\n",
       "      <td>0.36</td>\n",
       "      <td>-6.8158</td>\n",
       "      <td>42</td>\n",
       "      <td>0</td>\n",
       "    </tr>\n",
       "    <tr>\n",
       "      <th>3</th>\n",
       "      <td>8</td>\n",
       "      <td>0.25</td>\n",
       "      <td>0.35</td>\n",
       "      <td>-6.8107</td>\n",
       "      <td>42</td>\n",
       "      <td>0</td>\n",
       "    </tr>\n",
       "    <tr>\n",
       "      <th>4</th>\n",
       "      <td>9</td>\n",
       "      <td>0.3</td>\n",
       "      <td>0.35</td>\n",
       "      <td>-6.8125</td>\n",
       "      <td>42</td>\n",
       "      <td>0</td>\n",
       "    </tr>\n",
       "    <tr>\n",
       "      <th>5</th>\n",
       "      <td>10</td>\n",
       "      <td>0.2</td>\n",
       "      <td>0.36</td>\n",
       "      <td>-6.8089</td>\n",
       "      <td>42</td>\n",
       "      <td>0</td>\n",
       "    </tr>\n",
       "    <tr>\n",
       "      <th>6</th>\n",
       "      <td>11</td>\n",
       "      <td>0.15</td>\n",
       "      <td>0.36</td>\n",
       "      <td>-6.8100</td>\n",
       "      <td>42</td>\n",
       "      <td>0</td>\n",
       "    </tr>\n",
       "    <tr>\n",
       "      <th>7</th>\n",
       "      <td>13</td>\n",
       "      <td>0.175</td>\n",
       "      <td>0.36</td>\n",
       "      <td>-6.8096</td>\n",
       "      <td>42</td>\n",
       "      <td>0</td>\n",
       "    </tr>\n",
       "    <tr>\n",
       "      <th>8</th>\n",
       "      <td>14</td>\n",
       "      <td>0.225</td>\n",
       "      <td>0.36</td>\n",
       "      <td>-6.8100</td>\n",
       "      <td>42</td>\n",
       "      <td>0</td>\n",
       "    </tr>\n",
       "    <tr>\n",
       "      <th>9</th>\n",
       "      <td>15</td>\n",
       "      <td>0.2</td>\n",
       "      <td>0.32</td>\n",
       "      <td>-6.8092</td>\n",
       "      <td>42</td>\n",
       "      <td>0</td>\n",
       "    </tr>\n",
       "    <tr>\n",
       "      <th>10</th>\n",
       "      <td>16</td>\n",
       "      <td>0.2</td>\n",
       "      <td>0.25</td>\n",
       "      <td>-6.8093</td>\n",
       "      <td>42</td>\n",
       "      <td>0</td>\n",
       "    </tr>\n",
       "    <tr>\n",
       "      <th>11</th>\n",
       "      <td>17</td>\n",
       "      <td>0.5</td>\n",
       "      <td>0.25</td>\n",
       "      <td>-6.8283</td>\n",
       "      <td>42</td>\n",
       "      <td>0</td>\n",
       "    </tr>\n",
       "    <tr>\n",
       "      <th>12</th>\n",
       "      <td>18</td>\n",
       "      <td>0.2</td>\n",
       "      <td>0.38</td>\n",
       "      <td>-6.8087</td>\n",
       "      <td>42</td>\n",
       "      <td>1</td>\n",
       "    </tr>\n",
       "    <tr>\n",
       "      <th>13</th>\n",
       "      <td>19</td>\n",
       "      <td>0.2</td>\n",
       "      <td>0.39</td>\n",
       "      <td>-6.8090</td>\n",
       "      <td>42</td>\n",
       "      <td>0</td>\n",
       "    </tr>\n",
       "    <tr>\n",
       "      <th>14</th>\n",
       "      <td>20</td>\n",
       "      <td>0.2</td>\n",
       "      <td>0.37</td>\n",
       "      <td>-6.8092</td>\n",
       "      <td>42</td>\n",
       "      <td>0</td>\n",
       "    </tr>\n",
       "    <tr>\n",
       "      <th>15</th>\n",
       "      <td>21</td>\n",
       "      <td>0.19</td>\n",
       "      <td>0.38</td>\n",
       "      <td>-6.8093</td>\n",
       "      <td>42</td>\n",
       "      <td>0</td>\n",
       "    </tr>\n",
       "    <tr>\n",
       "      <th>16</th>\n",
       "      <td>23</td>\n",
       "      <td>0.2</td>\n",
       "      <td>0.38</td>\n",
       "      <td>-6.8402</td>\n",
       "      <td>0</td>\n",
       "      <td>0</td>\n",
       "    </tr>\n",
       "    <tr>\n",
       "      <th>17</th>\n",
       "      <td>26</td>\n",
       "      <td>0.2</td>\n",
       "      <td>0.385</td>\n",
       "      <td>-6.8092</td>\n",
       "      <td>42</td>\n",
       "      <td>0</td>\n",
       "    </tr>\n",
       "  </tbody>\n",
       "</table>\n",
       "</div>"
      ],
      "text/plain": [
       "   commit_num FVC_weight Dropout_model  LB_score  seed  max\n",
       "0           1       0.25           0.4   -6.8111    42    0\n",
       "1           4       0.25          0.36   -6.8105    42    0\n",
       "2           6       0.35          0.36   -6.8158    42    0\n",
       "3           8       0.25          0.35   -6.8107    42    0\n",
       "4           9        0.3          0.35   -6.8125    42    0\n",
       "5          10        0.2          0.36   -6.8089    42    0\n",
       "6          11       0.15          0.36   -6.8100    42    0\n",
       "7          13      0.175          0.36   -6.8096    42    0\n",
       "8          14      0.225          0.36   -6.8100    42    0\n",
       "9          15        0.2          0.32   -6.8092    42    0\n",
       "10         16        0.2          0.25   -6.8093    42    0\n",
       "11         17        0.5          0.25   -6.8283    42    0\n",
       "12         18        0.2          0.38   -6.8087    42    1\n",
       "13         19        0.2          0.39   -6.8090    42    0\n",
       "14         20        0.2          0.37   -6.8092    42    0\n",
       "15         21       0.19          0.38   -6.8093    42    0\n",
       "16         23        0.2          0.38   -6.8402     0    0\n",
       "17         26        0.2         0.385   -6.8092    42    0"
      ]
     },
     "execution_count": 28,
     "metadata": {},
     "output_type": "execute_result"
    }
   ],
   "source": [
    "commits_df"
   ]
  },
  {
   "cell_type": "code",
   "execution_count": 29,
   "metadata": {
    "execution": {
     "iopub.execute_input": "2020-09-19T13:00:26.130289Z",
     "iopub.status.busy": "2020-09-19T13:00:26.129452Z",
     "iopub.status.idle": "2020-09-19T13:00:27.333301Z",
     "shell.execute_reply": "2020-09-19T13:00:27.333869Z"
    },
    "papermill": {
     "duration": 1.287612,
     "end_time": "2020-09-19T13:00:27.334019",
     "exception": false,
     "start_time": "2020-09-19T13:00:26.046407",
     "status": "completed"
    },
    "tags": []
   },
   "outputs": [
    {
     "data": {
      "text/html": [
       "        <script type=\"text/javascript\">\n",
       "        window.PlotlyConfig = {MathJaxConfig: 'local'};\n",
       "        if (window.MathJax) {MathJax.Hub.Config({SVG: {font: \"STIX-Web\"}});}\n",
       "        if (typeof require !== 'undefined') {\n",
       "        require.undef(\"plotly\");\n",
       "        requirejs.config({\n",
       "            paths: {\n",
       "                'plotly': ['https://cdn.plot.ly/plotly-latest.min']\n",
       "            }\n",
       "        });\n",
       "        require(['plotly'], function(Plotly) {\n",
       "            window._Plotly = Plotly;\n",
       "        });\n",
       "        }\n",
       "        </script>\n",
       "        "
      ]
     },
     "metadata": {},
     "output_type": "display_data"
    },
    {
     "data": {
      "text/html": [
       "<div>\n",
       "        \n",
       "        \n",
       "            <div id=\"40f8e6fb-9167-4dd0-a4e4-8ce361497bab\" class=\"plotly-graph-div\" style=\"height:525px; width:100%;\"></div>\n",
       "            <script type=\"text/javascript\">\n",
       "                require([\"plotly\"], function(Plotly) {\n",
       "                    window.PLOTLYENV=window.PLOTLYENV || {};\n",
       "                    \n",
       "                if (document.getElementById(\"40f8e6fb-9167-4dd0-a4e4-8ce361497bab\")) {\n",
       "                    Plotly.newPlot(\n",
       "                        '40f8e6fb-9167-4dd0-a4e4-8ce361497bab',\n",
       "                        [{\"hovertemplate\": \"seed=42<br>FVC_weight=%{x}<br>Dropout_model=%{y}<br>LB_score=%{z}<br>max=%{marker.color}<extra></extra>\", \"legendgroup\": \"42\", \"marker\": {\"color\": [0, 0, 0, 0, 0, 0, 0, 0, 0, 0, 0, 0, 1, 0, 0, 0, 0], \"coloraxis\": \"coloraxis\", \"symbol\": \"circle\"}, \"mode\": \"markers\", \"name\": \"42\", \"scene\": \"scene\", \"showlegend\": true, \"type\": \"scatter3d\", \"x\": [0.25, 0.25, 0.35, 0.25, 0.3, 0.2, 0.15, 0.175, 0.225, 0.2, 0.2, 0.5, 0.2, 0.2, 0.2, 0.19, 0.2], \"y\": [0.4, 0.36, 0.36, 0.35, 0.35, 0.36, 0.36, 0.36, 0.36, 0.32, 0.25, 0.25, 0.38, 0.39, 0.37, 0.38, 0.385], \"z\": [-6.8111, -6.8105, -6.8158, -6.8107, -6.8125, -6.8089, -6.81, -6.8096, -6.81, -6.8092, -6.8093, -6.8283, -6.8087, -6.809, -6.8092, -6.8093, -6.8092]}, {\"hovertemplate\": \"seed=0<br>FVC_weight=%{x}<br>Dropout_model=%{y}<br>LB_score=%{z}<br>max=%{marker.color}<extra></extra>\", \"legendgroup\": \"0\", \"marker\": {\"color\": [0], \"coloraxis\": \"coloraxis\", \"symbol\": \"diamond\"}, \"mode\": \"markers\", \"name\": \"0\", \"scene\": \"scene\", \"showlegend\": true, \"type\": \"scatter3d\", \"x\": [0.2], \"y\": [0.38], \"z\": [-6.8402]}],\n",
       "                        {\"coloraxis\": {\"colorbar\": {\"title\": {\"text\": \"max\"}}, \"colorscale\": [[0.0, \"#0d0887\"], [0.1111111111111111, \"#46039f\"], [0.2222222222222222, \"#7201a8\"], [0.3333333333333333, \"#9c179e\"], [0.4444444444444444, \"#bd3786\"], [0.5555555555555556, \"#d8576b\"], [0.6666666666666666, \"#ed7953\"], [0.7777777777777778, \"#fb9f3a\"], [0.8888888888888888, \"#fdca26\"], [1.0, \"#f0f921\"]]}, \"legend\": {\"title\": {\"text\": \"seed\"}, \"tracegroupgap\": 0}, \"scene\": {\"domain\": {\"x\": [0.0, 1.0], \"y\": [0.0, 1.0]}, \"xaxis\": {\"title\": {\"text\": \"FVC_weight\"}}, \"yaxis\": {\"title\": {\"text\": \"Dropout_model\"}}, \"zaxis\": {\"title\": {\"text\": \"LB_score\"}}}, \"template\": {\"data\": {\"bar\": [{\"error_x\": {\"color\": \"#2a3f5f\"}, \"error_y\": {\"color\": \"#2a3f5f\"}, \"marker\": {\"line\": {\"color\": \"#E5ECF6\", \"width\": 0.5}}, \"type\": \"bar\"}], \"barpolar\": [{\"marker\": {\"line\": {\"color\": \"#E5ECF6\", \"width\": 0.5}}, \"type\": \"barpolar\"}], \"carpet\": [{\"aaxis\": {\"endlinecolor\": \"#2a3f5f\", \"gridcolor\": \"white\", \"linecolor\": \"white\", \"minorgridcolor\": \"white\", \"startlinecolor\": \"#2a3f5f\"}, \"baxis\": {\"endlinecolor\": \"#2a3f5f\", \"gridcolor\": \"white\", \"linecolor\": \"white\", \"minorgridcolor\": \"white\", \"startlinecolor\": \"#2a3f5f\"}, \"type\": \"carpet\"}], \"choropleth\": [{\"colorbar\": {\"outlinewidth\": 0, \"ticks\": \"\"}, \"type\": \"choropleth\"}], \"contour\": [{\"colorbar\": {\"outlinewidth\": 0, \"ticks\": \"\"}, \"colorscale\": [[0.0, \"#0d0887\"], [0.1111111111111111, \"#46039f\"], [0.2222222222222222, \"#7201a8\"], [0.3333333333333333, \"#9c179e\"], [0.4444444444444444, \"#bd3786\"], [0.5555555555555556, \"#d8576b\"], [0.6666666666666666, \"#ed7953\"], [0.7777777777777778, \"#fb9f3a\"], [0.8888888888888888, \"#fdca26\"], [1.0, \"#f0f921\"]], \"type\": \"contour\"}], \"contourcarpet\": [{\"colorbar\": {\"outlinewidth\": 0, \"ticks\": \"\"}, \"type\": \"contourcarpet\"}], \"heatmap\": [{\"colorbar\": {\"outlinewidth\": 0, \"ticks\": \"\"}, \"colorscale\": [[0.0, \"#0d0887\"], [0.1111111111111111, \"#46039f\"], [0.2222222222222222, \"#7201a8\"], [0.3333333333333333, \"#9c179e\"], [0.4444444444444444, \"#bd3786\"], [0.5555555555555556, \"#d8576b\"], [0.6666666666666666, \"#ed7953\"], [0.7777777777777778, \"#fb9f3a\"], [0.8888888888888888, \"#fdca26\"], [1.0, \"#f0f921\"]], \"type\": \"heatmap\"}], \"heatmapgl\": [{\"colorbar\": {\"outlinewidth\": 0, \"ticks\": \"\"}, \"colorscale\": [[0.0, \"#0d0887\"], [0.1111111111111111, \"#46039f\"], [0.2222222222222222, \"#7201a8\"], [0.3333333333333333, \"#9c179e\"], [0.4444444444444444, \"#bd3786\"], [0.5555555555555556, \"#d8576b\"], [0.6666666666666666, \"#ed7953\"], [0.7777777777777778, \"#fb9f3a\"], [0.8888888888888888, \"#fdca26\"], [1.0, \"#f0f921\"]], \"type\": \"heatmapgl\"}], \"histogram\": [{\"marker\": {\"colorbar\": {\"outlinewidth\": 0, \"ticks\": \"\"}}, \"type\": \"histogram\"}], \"histogram2d\": [{\"colorbar\": {\"outlinewidth\": 0, \"ticks\": \"\"}, \"colorscale\": [[0.0, \"#0d0887\"], [0.1111111111111111, \"#46039f\"], [0.2222222222222222, \"#7201a8\"], [0.3333333333333333, \"#9c179e\"], [0.4444444444444444, \"#bd3786\"], [0.5555555555555556, \"#d8576b\"], [0.6666666666666666, \"#ed7953\"], [0.7777777777777778, \"#fb9f3a\"], [0.8888888888888888, \"#fdca26\"], [1.0, \"#f0f921\"]], \"type\": \"histogram2d\"}], \"histogram2dcontour\": [{\"colorbar\": {\"outlinewidth\": 0, \"ticks\": \"\"}, \"colorscale\": [[0.0, \"#0d0887\"], [0.1111111111111111, \"#46039f\"], [0.2222222222222222, \"#7201a8\"], [0.3333333333333333, \"#9c179e\"], [0.4444444444444444, \"#bd3786\"], [0.5555555555555556, \"#d8576b\"], [0.6666666666666666, \"#ed7953\"], [0.7777777777777778, \"#fb9f3a\"], [0.8888888888888888, \"#fdca26\"], [1.0, \"#f0f921\"]], \"type\": \"histogram2dcontour\"}], \"mesh3d\": [{\"colorbar\": {\"outlinewidth\": 0, \"ticks\": \"\"}, \"type\": \"mesh3d\"}], \"parcoords\": [{\"line\": {\"colorbar\": {\"outlinewidth\": 0, \"ticks\": \"\"}}, \"type\": \"parcoords\"}], \"pie\": [{\"automargin\": true, \"type\": \"pie\"}], \"scatter\": [{\"marker\": {\"colorbar\": {\"outlinewidth\": 0, \"ticks\": \"\"}}, \"type\": \"scatter\"}], \"scatter3d\": [{\"line\": {\"colorbar\": {\"outlinewidth\": 0, \"ticks\": \"\"}}, \"marker\": {\"colorbar\": {\"outlinewidth\": 0, \"ticks\": \"\"}}, \"type\": \"scatter3d\"}], \"scattercarpet\": [{\"marker\": {\"colorbar\": {\"outlinewidth\": 0, \"ticks\": \"\"}}, \"type\": \"scattercarpet\"}], \"scattergeo\": [{\"marker\": {\"colorbar\": {\"outlinewidth\": 0, \"ticks\": \"\"}}, \"type\": \"scattergeo\"}], \"scattergl\": [{\"marker\": {\"colorbar\": {\"outlinewidth\": 0, \"ticks\": \"\"}}, \"type\": \"scattergl\"}], \"scattermapbox\": [{\"marker\": {\"colorbar\": {\"outlinewidth\": 0, \"ticks\": \"\"}}, \"type\": \"scattermapbox\"}], \"scatterpolar\": [{\"marker\": {\"colorbar\": {\"outlinewidth\": 0, \"ticks\": \"\"}}, \"type\": \"scatterpolar\"}], \"scatterpolargl\": [{\"marker\": {\"colorbar\": {\"outlinewidth\": 0, \"ticks\": \"\"}}, \"type\": \"scatterpolargl\"}], \"scatterternary\": [{\"marker\": {\"colorbar\": {\"outlinewidth\": 0, \"ticks\": \"\"}}, \"type\": \"scatterternary\"}], \"surface\": [{\"colorbar\": {\"outlinewidth\": 0, \"ticks\": \"\"}, \"colorscale\": [[0.0, \"#0d0887\"], [0.1111111111111111, \"#46039f\"], [0.2222222222222222, \"#7201a8\"], [0.3333333333333333, \"#9c179e\"], [0.4444444444444444, \"#bd3786\"], [0.5555555555555556, \"#d8576b\"], [0.6666666666666666, \"#ed7953\"], [0.7777777777777778, \"#fb9f3a\"], [0.8888888888888888, \"#fdca26\"], [1.0, \"#f0f921\"]], \"type\": \"surface\"}], \"table\": [{\"cells\": {\"fill\": {\"color\": \"#EBF0F8\"}, \"line\": {\"color\": \"white\"}}, \"header\": {\"fill\": {\"color\": \"#C8D4E3\"}, \"line\": {\"color\": \"white\"}}, \"type\": \"table\"}]}, \"layout\": {\"annotationdefaults\": {\"arrowcolor\": \"#2a3f5f\", \"arrowhead\": 0, \"arrowwidth\": 1}, \"coloraxis\": {\"colorbar\": {\"outlinewidth\": 0, \"ticks\": \"\"}}, \"colorscale\": {\"diverging\": [[0, \"#8e0152\"], [0.1, \"#c51b7d\"], [0.2, \"#de77ae\"], [0.3, \"#f1b6da\"], [0.4, \"#fde0ef\"], [0.5, \"#f7f7f7\"], [0.6, \"#e6f5d0\"], [0.7, \"#b8e186\"], [0.8, \"#7fbc41\"], [0.9, \"#4d9221\"], [1, \"#276419\"]], \"sequential\": [[0.0, \"#0d0887\"], [0.1111111111111111, \"#46039f\"], [0.2222222222222222, \"#7201a8\"], [0.3333333333333333, \"#9c179e\"], [0.4444444444444444, \"#bd3786\"], [0.5555555555555556, \"#d8576b\"], [0.6666666666666666, \"#ed7953\"], [0.7777777777777778, \"#fb9f3a\"], [0.8888888888888888, \"#fdca26\"], [1.0, \"#f0f921\"]], \"sequentialminus\": [[0.0, \"#0d0887\"], [0.1111111111111111, \"#46039f\"], [0.2222222222222222, \"#7201a8\"], [0.3333333333333333, \"#9c179e\"], [0.4444444444444444, \"#bd3786\"], [0.5555555555555556, \"#d8576b\"], [0.6666666666666666, \"#ed7953\"], [0.7777777777777778, \"#fb9f3a\"], [0.8888888888888888, \"#fdca26\"], [1.0, \"#f0f921\"]]}, \"colorway\": [\"#636efa\", \"#EF553B\", \"#00cc96\", \"#ab63fa\", \"#FFA15A\", \"#19d3f3\", \"#FF6692\", \"#B6E880\", \"#FF97FF\", \"#FECB52\"], \"font\": {\"color\": \"#2a3f5f\"}, \"geo\": {\"bgcolor\": \"white\", \"lakecolor\": \"white\", \"landcolor\": \"#E5ECF6\", \"showlakes\": true, \"showland\": true, \"subunitcolor\": \"white\"}, \"hoverlabel\": {\"align\": \"left\"}, \"hovermode\": \"closest\", \"mapbox\": {\"style\": \"light\"}, \"paper_bgcolor\": \"white\", \"plot_bgcolor\": \"#E5ECF6\", \"polar\": {\"angularaxis\": {\"gridcolor\": \"white\", \"linecolor\": \"white\", \"ticks\": \"\"}, \"bgcolor\": \"#E5ECF6\", \"radialaxis\": {\"gridcolor\": \"white\", \"linecolor\": \"white\", \"ticks\": \"\"}}, \"scene\": {\"xaxis\": {\"backgroundcolor\": \"#E5ECF6\", \"gridcolor\": \"white\", \"gridwidth\": 2, \"linecolor\": \"white\", \"showbackground\": true, \"ticks\": \"\", \"zerolinecolor\": \"white\"}, \"yaxis\": {\"backgroundcolor\": \"#E5ECF6\", \"gridcolor\": \"white\", \"gridwidth\": 2, \"linecolor\": \"white\", \"showbackground\": true, \"ticks\": \"\", \"zerolinecolor\": \"white\"}, \"zaxis\": {\"backgroundcolor\": \"#E5ECF6\", \"gridcolor\": \"white\", \"gridwidth\": 2, \"linecolor\": \"white\", \"showbackground\": true, \"ticks\": \"\", \"zerolinecolor\": \"white\"}}, \"shapedefaults\": {\"line\": {\"color\": \"#2a3f5f\"}}, \"ternary\": {\"aaxis\": {\"gridcolor\": \"white\", \"linecolor\": \"white\", \"ticks\": \"\"}, \"baxis\": {\"gridcolor\": \"white\", \"linecolor\": \"white\", \"ticks\": \"\"}, \"bgcolor\": \"#E5ECF6\", \"caxis\": {\"gridcolor\": \"white\", \"linecolor\": \"white\", \"ticks\": \"\"}}, \"title\": {\"x\": 0.05}, \"xaxis\": {\"automargin\": true, \"gridcolor\": \"white\", \"linecolor\": \"white\", \"ticks\": \"\", \"title\": {\"standoff\": 15}, \"zerolinecolor\": \"white\", \"zerolinewidth\": 2}, \"yaxis\": {\"automargin\": true, \"gridcolor\": \"white\", \"linecolor\": \"white\", \"ticks\": \"\", \"title\": {\"standoff\": 15}, \"zerolinecolor\": \"white\", \"zerolinewidth\": 2}}}, \"title\": {\"text\": \"Parameters and LB score visualization of OSIC PFP solutions\", \"x\": 0.1}},\n",
       "                        {\"responsive\": true}\n",
       "                    ).then(function(){\n",
       "                            \n",
       "var gd = document.getElementById('40f8e6fb-9167-4dd0-a4e4-8ce361497bab');\n",
       "var x = new MutationObserver(function (mutations, observer) {{\n",
       "        var display = window.getComputedStyle(gd).display;\n",
       "        if (!display || display === 'none') {{\n",
       "            console.log([gd, 'removed!']);\n",
       "            Plotly.purge(gd);\n",
       "            observer.disconnect();\n",
       "        }}\n",
       "}});\n",
       "\n",
       "// Listen for the removal of the full notebook cells\n",
       "var notebookContainer = gd.closest('#notebook-container');\n",
       "if (notebookContainer) {{\n",
       "    x.observe(notebookContainer, {childList: true});\n",
       "}}\n",
       "\n",
       "// Listen for the clearing of the current output cell\n",
       "var outputEl = gd.closest('.output');\n",
       "if (outputEl) {{\n",
       "    x.observe(outputEl, {childList: true});\n",
       "}}\n",
       "\n",
       "                        })\n",
       "                };\n",
       "                });\n",
       "            </script>\n",
       "        </div>"
      ]
     },
     "metadata": {},
     "output_type": "display_data"
    }
   ],
   "source": [
    "# Interactive plot with results of parameters tuning\n",
    "fig = px.scatter_3d(commits_df, x='FVC_weight', y='Dropout_model', z='LB_score', color = 'max', \n",
    "                    symbol = 'seed',\n",
    "                    title='Parameters and LB score visualization of OSIC PFP solutions')\n",
    "fig.update(layout=dict(title=dict(x=0.1)))"
   ]
  },
  {
   "cell_type": "markdown",
   "metadata": {
    "papermill": {
     "duration": 0.080427,
     "end_time": "2020-09-19T13:00:27.494013",
     "exception": false,
     "start_time": "2020-09-19T13:00:27.413586",
     "status": "completed"
    },
    "tags": []
   },
   "source": [
    "Other parameters should be changed to increase accuracy."
   ]
  },
  {
   "cell_type": "markdown",
   "metadata": {
    "papermill": {
     "duration": 0.081594,
     "end_time": "2020-09-19T13:00:27.656459",
     "exception": false,
     "start_time": "2020-09-19T13:00:27.574865",
     "status": "completed"
    },
    "tags": []
   },
   "source": [
    "## 3. Download data, auxiliary functions and model tuning <a class=\"anchor\" id=\"3\"></a>\n",
    "\n",
    "[Back to Table of Contents](#0.1)"
   ]
  },
  {
   "cell_type": "code",
   "execution_count": 30,
   "metadata": {
    "execution": {
     "iopub.execute_input": "2020-09-19T13:00:27.827800Z",
     "iopub.status.busy": "2020-09-19T13:00:27.826845Z",
     "iopub.status.idle": "2020-09-19T13:00:27.836486Z",
     "shell.execute_reply": "2020-09-19T13:00:27.835758Z"
    },
    "papermill": {
     "duration": 0.098041,
     "end_time": "2020-09-19T13:00:27.836612",
     "exception": false,
     "start_time": "2020-09-19T13:00:27.738571",
     "status": "completed"
    },
    "tags": []
   },
   "outputs": [],
   "source": [
    "train = pd.read_csv('../input/osic-pulmonary-fibrosis-progression/train.csv') "
   ]
  },
  {
   "cell_type": "code",
   "execution_count": 31,
   "metadata": {
    "_kg_hide-input": true,
    "execution": {
     "iopub.execute_input": "2020-09-19T13:00:28.008501Z",
     "iopub.status.busy": "2020-09-19T13:00:28.007424Z",
     "iopub.status.idle": "2020-09-19T13:00:28.010741Z",
     "shell.execute_reply": "2020-09-19T13:00:28.010228Z"
    },
    "papermill": {
     "duration": 0.092335,
     "end_time": "2020-09-19T13:00:28.010857",
     "exception": false,
     "start_time": "2020-09-19T13:00:27.918522",
     "status": "completed"
    },
    "tags": []
   },
   "outputs": [],
   "source": [
    "def get_tab(df):\n",
    "    vector = [(df.Age.values[0] - 30) / 30] \n",
    "    \n",
    "    if df.Sex.values[0] == 'male':\n",
    "       vector.append(0)\n",
    "    else:\n",
    "       vector.append(1)\n",
    "    \n",
    "    if df.SmokingStatus.values[0] == 'Never smoked':\n",
    "        vector.extend([0,0])\n",
    "    elif df.SmokingStatus.values[0] == 'Ex-smoker':\n",
    "        vector.extend([1,1])\n",
    "    elif df.SmokingStatus.values[0] == 'Currently smokes':\n",
    "        vector.extend([0,1])\n",
    "    else:\n",
    "        vector.extend([1,0])\n",
    "    return np.array(vector) "
   ]
  },
  {
   "cell_type": "code",
   "execution_count": 32,
   "metadata": {
    "execution": {
     "iopub.execute_input": "2020-09-19T13:00:28.187494Z",
     "iopub.status.busy": "2020-09-19T13:00:28.186533Z",
     "iopub.status.idle": "2020-09-19T13:00:28.777611Z",
     "shell.execute_reply": "2020-09-19T13:00:28.773634Z"
    },
    "papermill": {
     "duration": 0.688314,
     "end_time": "2020-09-19T13:00:28.777795",
     "exception": false,
     "start_time": "2020-09-19T13:00:28.089481",
     "status": "completed"
    },
    "tags": []
   },
   "outputs": [
    {
     "data": {
      "application/vnd.jupyter.widget-view+json": {
       "model_id": "3e85359b846749a59b73681a4b064063",
       "version_major": 2,
       "version_minor": 0
      },
      "text/plain": [
       "HBox(children=(FloatProgress(value=1.0, bar_style='info', max=1.0), HTML(value='')))"
      ]
     },
     "metadata": {},
     "output_type": "display_data"
    },
    {
     "name": "stderr",
     "output_type": "stream",
     "text": [
      "/opt/conda/lib/python3.7/site-packages/ipykernel_launcher.py:9: FutureWarning:\n",
      "\n",
      "`rcond` parameter will change to the default of machine precision times ``max(M, N)`` where M and N are the input matrix dimensions.\n",
      "To use the future default and silence this warning we advise to pass `rcond=None`, to keep using the old, explicitly pass `rcond=-1`.\n",
      "\n"
     ]
    },
    {
     "name": "stdout",
     "output_type": "stream",
     "text": [
      "\n"
     ]
    }
   ],
   "source": [
    "A = {} \n",
    "TAB = {} \n",
    "P = [] \n",
    "for i, p in tqdm(enumerate(train.Patient.unique())):\n",
    "    sub = train.loc[train.Patient == p, :] \n",
    "    fvc = sub.FVC.values\n",
    "    weeks = sub.Weeks.values\n",
    "    c = np.vstack([weeks, np.ones(len(weeks))]).T\n",
    "    a, b = np.linalg.lstsq(c, fvc)[0]\n",
    "    \n",
    "    A[p] = a\n",
    "    TAB[p] = get_tab(sub)\n",
    "    P.append(p)"
   ]
  },
  {
   "cell_type": "code",
   "execution_count": 33,
   "metadata": {
    "_kg_hide-input": true,
    "execution": {
     "iopub.execute_input": "2020-09-19T13:00:29.056632Z",
     "iopub.status.busy": "2020-09-19T13:00:29.055462Z",
     "iopub.status.idle": "2020-09-19T13:00:29.060493Z",
     "shell.execute_reply": "2020-09-19T13:00:29.061248Z"
    },
    "papermill": {
     "duration": 0.147677,
     "end_time": "2020-09-19T13:00:29.061498",
     "exception": false,
     "start_time": "2020-09-19T13:00:28.913821",
     "status": "completed"
    },
    "tags": []
   },
   "outputs": [],
   "source": [
    "def get_img(path):\n",
    "    d = pydicom.dcmread(path)\n",
    "    return cv2.resize(d.pixel_array / 2**11, (512, 512))"
   ]
  },
  {
   "cell_type": "code",
   "execution_count": 34,
   "metadata": {
    "_kg_hide-input": true,
    "execution": {
     "iopub.execute_input": "2020-09-19T13:00:29.337403Z",
     "iopub.status.busy": "2020-09-19T13:00:29.329475Z",
     "iopub.status.idle": "2020-09-19T13:00:29.341859Z",
     "shell.execute_reply": "2020-09-19T13:00:29.342874Z"
    },
    "papermill": {
     "duration": 0.144121,
     "end_time": "2020-09-19T13:00:29.343060",
     "exception": false,
     "start_time": "2020-09-19T13:00:29.198939",
     "status": "completed"
    },
    "tags": []
   },
   "outputs": [],
   "source": [
    "from tensorflow.keras.utils import Sequence\n",
    "\n",
    "class IGenerator(Sequence):\n",
    "    BAD_ID = ['ID00011637202177653955184', 'ID00052637202186188008618']\n",
    "    def __init__(self, keys, a, tab, batch_size=32):\n",
    "        self.keys = [k for k in keys if k not in self.BAD_ID]\n",
    "        self.a = a\n",
    "        self.tab = tab\n",
    "        self.batch_size = batch_size\n",
    "        \n",
    "        self.train_data = {}\n",
    "        for p in train.Patient.values:\n",
    "            self.train_data[p] = os.listdir(f'../input/osic-pulmonary-fibrosis-progression/train/{p}/')\n",
    "    \n",
    "    def __len__(self):\n",
    "        return 1000\n",
    "    \n",
    "    def __getitem__(self, idx):\n",
    "        x = []\n",
    "        a, tab = [], [] \n",
    "        keys = np.random.choice(self.keys, size = self.batch_size)\n",
    "        for k in keys:\n",
    "            try:\n",
    "                i = np.random.choice(self.train_data[k], size=1)[0]\n",
    "                img = get_img(f'../input/osic-pulmonary-fibrosis-progression/train/{k}/{i}')\n",
    "                x.append(img)\n",
    "                a.append(self.a[k])\n",
    "                tab.append(self.tab[k])\n",
    "            except:\n",
    "                print(k, i)\n",
    "       \n",
    "        x,a,tab = np.array(x), np.array(a), np.array(tab)\n",
    "        x = np.expand_dims(x, axis=-1)\n",
    "        return [x, tab] , a"
   ]
  },
  {
   "cell_type": "code",
   "execution_count": 35,
   "metadata": {
    "execution": {
     "iopub.execute_input": "2020-09-19T13:00:29.603184Z",
     "iopub.status.busy": "2020-09-19T13:00:29.602168Z",
     "iopub.status.idle": "2020-09-19T13:01:31.092206Z",
     "shell.execute_reply": "2020-09-19T13:01:31.092861Z"
    },
    "papermill": {
     "duration": 61.630459,
     "end_time": "2020-09-19T13:01:31.093020",
     "exception": false,
     "start_time": "2020-09-19T13:00:29.462561",
     "status": "completed"
    },
    "tags": []
   },
   "outputs": [
    {
     "name": "stdout",
     "output_type": "stream",
     "text": [
      "Number of models: 1\n"
     ]
    }
   ],
   "source": [
    "from tensorflow.keras.layers import (\n",
    "    Dense, Dropout, Activation, Flatten, Input, BatchNormalization, GlobalAveragePooling2D, Add, Conv2D, AveragePooling2D, \n",
    "    LeakyReLU, Concatenate \n",
    ")\n",
    "import efficientnet.tfkeras as efn\n",
    "\n",
    "def get_efficientnet(model, shape):\n",
    "    models_dict = {\n",
    "        'b0': efn.EfficientNetB0(input_shape=shape,weights=None,include_top=False),\n",
    "        'b1': efn.EfficientNetB1(input_shape=shape,weights=None,include_top=False),\n",
    "        'b2': efn.EfficientNetB2(input_shape=shape,weights=None,include_top=False),\n",
    "        'b3': efn.EfficientNetB3(input_shape=shape,weights=None,include_top=False),\n",
    "        'b4': efn.EfficientNetB4(input_shape=shape,weights=None,include_top=False),\n",
    "        'b5': efn.EfficientNetB5(input_shape=shape,weights=None,include_top=False),\n",
    "        'b6': efn.EfficientNetB6(input_shape=shape,weights=None,include_top=False),\n",
    "        'b7': efn.EfficientNetB7(input_shape=shape,weights=None,include_top=False)\n",
    "    }\n",
    "    return models_dict[model]\n",
    "\n",
    "def build_model(shape=(512, 512, 1), model_class=None):\n",
    "    inp = Input(shape=shape)\n",
    "    base = get_efficientnet(model_class, shape)\n",
    "    x = base(inp)\n",
    "    x = GlobalAveragePooling2D()(x)\n",
    "    inp2 = Input(shape=(4,))\n",
    "    x2 = tf.keras.layers.GaussianNoise(0.2)(inp2)\n",
    "    x = Concatenate()([x, x2]) \n",
    "    x = Dropout(Dropout_model)(x)\n",
    "    x = Dense(1)(x)\n",
    "    model = Model([inp, inp2] , x)\n",
    "    \n",
    "    weights = [w for w in os.listdir('../input/osic-model-weights') if model_class in w][0]\n",
    "    model.load_weights('../input/osic-model-weights/' + weights)\n",
    "    return model\n",
    "\n",
    "model_classes = ['b5'] #['b0','b1','b2','b3',b4','b5','b6','b7']\n",
    "models = [build_model(shape=(512, 512, 1), model_class=m) for m in model_classes]\n",
    "print('Number of models: ' + str(len(models)))"
   ]
  },
  {
   "cell_type": "code",
   "execution_count": 36,
   "metadata": {
    "execution": {
     "iopub.execute_input": "2020-09-19T13:01:31.265116Z",
     "iopub.status.busy": "2020-09-19T13:01:31.264164Z",
     "iopub.status.idle": "2020-09-19T13:01:31.268061Z",
     "shell.execute_reply": "2020-09-19T13:01:31.268569Z"
    },
    "papermill": {
     "duration": 0.092716,
     "end_time": "2020-09-19T13:01:31.268710",
     "exception": false,
     "start_time": "2020-09-19T13:01:31.175994",
     "status": "completed"
    },
    "tags": []
   },
   "outputs": [],
   "source": [
    "tr_p, vl_p = train_test_split(P, shuffle=True, train_size = 0.8) "
   ]
  },
  {
   "cell_type": "code",
   "execution_count": 37,
   "metadata": {
    "_kg_hide-input": true,
    "execution": {
     "iopub.execute_input": "2020-09-19T13:01:31.445828Z",
     "iopub.status.busy": "2020-09-19T13:01:31.444978Z",
     "iopub.status.idle": "2020-09-19T13:01:31.449245Z",
     "shell.execute_reply": "2020-09-19T13:01:31.448755Z"
    },
    "papermill": {
     "duration": 0.093362,
     "end_time": "2020-09-19T13:01:31.449363",
     "exception": false,
     "start_time": "2020-09-19T13:01:31.356001",
     "status": "completed"
    },
    "tags": []
   },
   "outputs": [],
   "source": [
    "def score(fvc_true, fvc_pred, sigma):\n",
    "    sigma_clip = np.maximum(sigma, 70) # changed from 70, trie 66.7 too\n",
    "    delta = np.abs(fvc_true - fvc_pred)\n",
    "    delta = np.minimum(delta, 1000)\n",
    "    sq2 = np.sqrt(2)\n",
    "    metric = (delta / sigma_clip)*sq2 + np.log(sigma_clip* sq2)\n",
    "    return np.mean(metric)"
   ]
  },
  {
   "cell_type": "code",
   "execution_count": 38,
   "metadata": {
    "execution": {
     "iopub.execute_input": "2020-09-19T13:01:31.642088Z",
     "iopub.status.busy": "2020-09-19T13:01:31.631804Z",
     "iopub.status.idle": "2020-09-19T13:17:33.585636Z",
     "shell.execute_reply": "2020-09-19T13:17:33.583983Z"
    },
    "papermill": {
     "duration": 962.054167,
     "end_time": "2020-09-19T13:17:33.585811",
     "exception": false,
     "start_time": "2020-09-19T13:01:31.531644",
     "status": "completed"
    },
    "tags": []
   },
   "outputs": [
    {
     "data": {
      "application/vnd.jupyter.widget-view+json": {
       "model_id": "19aa5156e61e46149dbb1614db4fe7ac",
       "version_major": 2,
       "version_minor": 0
      },
      "text/plain": [
       "HBox(children=(FloatProgress(value=0.0, max=9.0), HTML(value='')))"
      ]
     },
     "metadata": {},
     "output_type": "display_data"
    },
    {
     "name": "stdout",
     "output_type": "stream",
     "text": [
      "6.7386115244278315\n",
      "6.7386157849118185\n",
      "6.738613409663092\n",
      "6.738611777632042\n",
      "6.738608976510854\n",
      "6.73860117497328\n",
      "6.738588805611822\n",
      "6.738575478981084\n",
      "6.73858318263184\n",
      "\n"
     ]
    }
   ],
   "source": [
    "subs = []\n",
    "for model in models:\n",
    "    metric = []\n",
    "    for q in tqdm(range(1, 10)):\n",
    "        m = []\n",
    "        for p in vl_p:\n",
    "            x = [] \n",
    "            tab = [] \n",
    "\n",
    "            if p in ['ID00011637202177653955184', 'ID00052637202186188008618']:\n",
    "                continue\n",
    "\n",
    "            ldir = os.listdir(f'../input/osic-pulmonary-fibrosis-progression/train/{p}/')\n",
    "            for i in ldir:\n",
    "                if int(i[:-4]) / len(ldir) < 0.8 and int(i[:-4]) / len(ldir) > 0.15:\n",
    "                    x.append(get_img(f'../input/osic-pulmonary-fibrosis-progression/train/{p}/{i}')) \n",
    "                    tab.append(get_tab(train.loc[train.Patient == p, :])) \n",
    "            if len(x) < 1:\n",
    "                continue\n",
    "            tab = np.array(tab) \n",
    "\n",
    "            x = np.expand_dims(x, axis=-1) \n",
    "            _a = model.predict([x, tab]) \n",
    "            a = np.quantile(_a, q / 10)\n",
    "\n",
    "            percent_true = train.Percent.values[train.Patient == p]\n",
    "            fvc_true = train.FVC.values[train.Patient == p]\n",
    "            weeks_true = train.Weeks.values[train.Patient == p]\n",
    "\n",
    "            fvc = a * (weeks_true - weeks_true[0]) + fvc_true[0]\n",
    "            percent = percent_true[0] - a * abs(weeks_true - weeks_true[0])\n",
    "            m.append(score(fvc_true, fvc, percent))\n",
    "        print(np.mean(m))\n",
    "        metric.append(np.mean(m))\n",
    "\n",
    "    q = (np.argmin(metric) + 1)/ 10\n",
    "\n",
    "    sub = pd.read_csv('../input/osic-pulmonary-fibrosis-progression/sample_submission.csv') \n",
    "    test = pd.read_csv('../input/osic-pulmonary-fibrosis-progression/test.csv') \n",
    "    A_test, B_test, P_test,W, FVC= {}, {}, {},{},{} \n",
    "    STD, WEEK = {}, {} \n",
    "    for p in test.Patient.unique():\n",
    "        x = [] \n",
    "        tab = [] \n",
    "        ldir = os.listdir(f'../input/osic-pulmonary-fibrosis-progression/test/{p}/')\n",
    "        for i in ldir:\n",
    "            if int(i[:-4]) / len(ldir) < 0.8 and int(i[:-4]) / len(ldir) > 0.15:\n",
    "                x.append(get_img(f'../input/osic-pulmonary-fibrosis-progression/test/{p}/{i}')) \n",
    "                tab.append(get_tab(test.loc[test.Patient == p, :])) \n",
    "        if len(x) <= 1:\n",
    "            continue\n",
    "        tab = np.array(tab) \n",
    "\n",
    "        x = np.expand_dims(x, axis=-1) \n",
    "        _a = model.predict([x, tab]) \n",
    "        a = np.quantile(_a, q)\n",
    "        A_test[p] = a\n",
    "        B_test[p] = test.FVC.values[test.Patient == p] - a*test.Weeks.values[test.Patient == p]\n",
    "        P_test[p] = test.Percent.values[test.Patient == p] \n",
    "        WEEK[p] = test.Weeks.values[test.Patient == p]\n",
    "\n",
    "    for k in sub.Patient_Week.values:\n",
    "        p, w = k.split('_')\n",
    "        w = int(w) \n",
    "\n",
    "        fvc = A_test[p] * w + B_test[p]\n",
    "        sub.loc[sub.Patient_Week == k, 'FVC'] = fvc\n",
    "        sub.loc[sub.Patient_Week == k, 'Confidence'] = (\n",
    "            P_test[p] - A_test[p] * abs(WEEK[p] - w) \n",
    "    ) \n",
    "\n",
    "    _sub = sub[[\"Patient_Week\",\"FVC\",\"Confidence\"]].copy()\n",
    "    subs.append(_sub)"
   ]
  },
  {
   "cell_type": "markdown",
   "metadata": {
    "papermill": {
     "duration": 0.0862,
     "end_time": "2020-09-19T13:17:33.756181",
     "exception": false,
     "start_time": "2020-09-19T13:17:33.669981",
     "status": "completed"
    },
    "tags": []
   },
   "source": [
    "## 4. Prediction and submission <a class=\"anchor\" id=\"4\"></a>\n",
    "\n",
    "[Back to Table of Contents](#0.1)"
   ]
  },
  {
   "cell_type": "markdown",
   "metadata": {
    "papermill": {
     "duration": 0.087819,
     "end_time": "2020-09-19T13:17:33.932794",
     "exception": false,
     "start_time": "2020-09-19T13:17:33.844975",
     "status": "completed"
    },
    "tags": []
   },
   "source": [
    "## 4.1 Average prediction <a class=\"anchor\" id=\"4.1\"></a>\n",
    "\n",
    "[Back to Table of Contents](#0.1)"
   ]
  },
  {
   "cell_type": "code",
   "execution_count": 39,
   "metadata": {
    "execution": {
     "iopub.execute_input": "2020-09-19T13:17:34.123230Z",
     "iopub.status.busy": "2020-09-19T13:17:34.122579Z",
     "iopub.status.idle": "2020-09-19T13:17:34.149436Z",
     "shell.execute_reply": "2020-09-19T13:17:34.148123Z"
    },
    "papermill": {
     "duration": 0.126704,
     "end_time": "2020-09-19T13:17:34.149551",
     "exception": false,
     "start_time": "2020-09-19T13:17:34.022847",
     "status": "completed"
    },
    "tags": []
   },
   "outputs": [],
   "source": [
    "N = len(subs)\n",
    "sub = subs[0].copy() # ref\n",
    "sub[\"FVC\"] = 0\n",
    "sub[\"Confidence\"] = 0\n",
    "for i in range(N):\n",
    "    sub[\"FVC\"] += subs[0][\"FVC\"] * (1/N)\n",
    "    sub[\"Confidence\"] += subs[0][\"Confidence\"] * (1/N)"
   ]
  },
  {
   "cell_type": "code",
   "execution_count": 40,
   "metadata": {
    "execution": {
     "iopub.execute_input": "2020-09-19T13:17:34.366325Z",
     "iopub.status.busy": "2020-09-19T13:17:34.365138Z",
     "iopub.status.idle": "2020-09-19T13:17:34.373839Z",
     "shell.execute_reply": "2020-09-19T13:17:34.375234Z"
    },
    "papermill": {
     "duration": 0.137208,
     "end_time": "2020-09-19T13:17:34.375489",
     "exception": false,
     "start_time": "2020-09-19T13:17:34.238281",
     "status": "completed"
    },
    "tags": []
   },
   "outputs": [
    {
     "data": {
      "text/html": [
       "<div>\n",
       "<style scoped>\n",
       "    .dataframe tbody tr th:only-of-type {\n",
       "        vertical-align: middle;\n",
       "    }\n",
       "\n",
       "    .dataframe tbody tr th {\n",
       "        vertical-align: top;\n",
       "    }\n",
       "\n",
       "    .dataframe thead th {\n",
       "        text-align: right;\n",
       "    }\n",
       "</style>\n",
       "<table border=\"1\" class=\"dataframe\">\n",
       "  <thead>\n",
       "    <tr style=\"text-align: right;\">\n",
       "      <th></th>\n",
       "      <th>Patient_Week</th>\n",
       "      <th>FVC</th>\n",
       "      <th>Confidence</th>\n",
       "    </tr>\n",
       "  </thead>\n",
       "  <tbody>\n",
       "    <tr>\n",
       "      <th>0</th>\n",
       "      <td>ID00419637202311204720264_-12</td>\n",
       "      <td>3092.863664</td>\n",
       "      <td>143.050520</td>\n",
       "    </tr>\n",
       "    <tr>\n",
       "      <th>1</th>\n",
       "      <td>ID00421637202311550012437_-12</td>\n",
       "      <td>2847.459621</td>\n",
       "      <td>190.504912</td>\n",
       "    </tr>\n",
       "    <tr>\n",
       "      <th>2</th>\n",
       "      <td>ID00422637202311677017371_-12</td>\n",
       "      <td>2002.654819</td>\n",
       "      <td>149.327313</td>\n",
       "    </tr>\n",
       "    <tr>\n",
       "      <th>3</th>\n",
       "      <td>ID00423637202312137826377_-12</td>\n",
       "      <td>3410.692459</td>\n",
       "      <td>195.951362</td>\n",
       "    </tr>\n",
       "    <tr>\n",
       "      <th>4</th>\n",
       "      <td>ID00426637202313170790466_-12</td>\n",
       "      <td>2971.430485</td>\n",
       "      <td>118.255453</td>\n",
       "    </tr>\n",
       "  </tbody>\n",
       "</table>\n",
       "</div>"
      ],
      "text/plain": [
       "                    Patient_Week          FVC  Confidence\n",
       "0  ID00419637202311204720264_-12  3092.863664  143.050520\n",
       "1  ID00421637202311550012437_-12  2847.459621  190.504912\n",
       "2  ID00422637202311677017371_-12  2002.654819  149.327313\n",
       "3  ID00423637202312137826377_-12  3410.692459  195.951362\n",
       "4  ID00426637202313170790466_-12  2971.430485  118.255453"
      ]
     },
     "execution_count": 40,
     "metadata": {},
     "output_type": "execute_result"
    }
   ],
   "source": [
    "sub.head()"
   ]
  },
  {
   "cell_type": "code",
   "execution_count": 41,
   "metadata": {
    "execution": {
     "iopub.execute_input": "2020-09-19T13:17:34.571685Z",
     "iopub.status.busy": "2020-09-19T13:17:34.571000Z",
     "iopub.status.idle": "2020-09-19T13:17:34.714536Z",
     "shell.execute_reply": "2020-09-19T13:17:34.713202Z"
    },
    "papermill": {
     "duration": 0.237616,
     "end_time": "2020-09-19T13:17:34.714687",
     "exception": false,
     "start_time": "2020-09-19T13:17:34.477071",
     "status": "completed"
    },
    "tags": []
   },
   "outputs": [],
   "source": [
    "sub[[\"Patient_Week\",\"FVC\",\"Confidence\"]].to_csv(\"submission_img.csv\", index=False)"
   ]
  },
  {
   "cell_type": "code",
   "execution_count": 42,
   "metadata": {
    "execution": {
     "iopub.execute_input": "2020-09-19T13:17:34.898011Z",
     "iopub.status.busy": "2020-09-19T13:17:34.897179Z",
     "iopub.status.idle": "2020-09-19T13:17:34.901313Z",
     "shell.execute_reply": "2020-09-19T13:17:34.900803Z"
    },
    "papermill": {
     "duration": 0.097341,
     "end_time": "2020-09-19T13:17:34.901440",
     "exception": false,
     "start_time": "2020-09-19T13:17:34.804099",
     "status": "completed"
    },
    "tags": []
   },
   "outputs": [],
   "source": [
    "img_sub = sub[[\"Patient_Week\",\"FVC\",\"Confidence\"]].copy()"
   ]
  },
  {
   "cell_type": "markdown",
   "metadata": {
    "papermill": {
     "duration": 0.089189,
     "end_time": "2020-09-19T13:17:35.078891",
     "exception": false,
     "start_time": "2020-09-19T13:17:34.989702",
     "status": "completed"
    },
    "tags": []
   },
   "source": [
    "## 4.2 Osic-Multiple-Quantile-Regression <a class=\"anchor\" id=\"4.2\"></a>\n",
    "\n",
    "[Back to Table of Contents](#0.1)"
   ]
  },
  {
   "cell_type": "code",
   "execution_count": 43,
   "metadata": {
    "execution": {
     "iopub.execute_input": "2020-09-19T13:17:35.268579Z",
     "iopub.status.busy": "2020-09-19T13:17:35.264489Z",
     "iopub.status.idle": "2020-09-19T13:17:35.318225Z",
     "shell.execute_reply": "2020-09-19T13:17:35.318798Z"
    },
    "papermill": {
     "duration": 0.152807,
     "end_time": "2020-09-19T13:17:35.318946",
     "exception": false,
     "start_time": "2020-09-19T13:17:35.166139",
     "status": "completed"
    },
    "tags": []
   },
   "outputs": [
    {
     "name": "stdout",
     "output_type": "stream",
     "text": [
      "add infos\n"
     ]
    }
   ],
   "source": [
    "ROOT = \"../input/osic-pulmonary-fibrosis-progression\"\n",
    "BATCH_SIZE=128\n",
    "\n",
    "tr = pd.read_csv(f\"{ROOT}/train.csv\")\n",
    "tr.drop_duplicates(keep=False, inplace=True, subset=['Patient','Weeks'])\n",
    "chunk = pd.read_csv(f\"{ROOT}/test.csv\")\n",
    "\n",
    "print(\"add infos\")\n",
    "sub = pd.read_csv(f\"{ROOT}/sample_submission.csv\")\n",
    "sub['Patient'] = sub['Patient_Week'].apply(lambda x:x.split('_')[0])\n",
    "sub['Weeks'] = sub['Patient_Week'].apply(lambda x: int(x.split('_')[-1]))\n",
    "sub =  sub[['Patient','Weeks','Confidence','Patient_Week']]\n",
    "sub = sub.merge(chunk.drop('Weeks', axis=1), on=\"Patient\")"
   ]
  },
  {
   "cell_type": "code",
   "execution_count": 44,
   "metadata": {
    "execution": {
     "iopub.execute_input": "2020-09-19T13:17:35.540527Z",
     "iopub.status.busy": "2020-09-19T13:17:35.539333Z",
     "iopub.status.idle": "2020-09-19T13:17:35.542787Z",
     "shell.execute_reply": "2020-09-19T13:17:35.542180Z"
    },
    "papermill": {
     "duration": 0.120002,
     "end_time": "2020-09-19T13:17:35.542913",
     "exception": false,
     "start_time": "2020-09-19T13:17:35.422911",
     "status": "completed"
    },
    "tags": []
   },
   "outputs": [],
   "source": [
    "tr['WHERE'] = 'train'\n",
    "chunk['WHERE'] = 'val'\n",
    "sub['WHERE'] = 'test'\n",
    "data = tr.append([chunk, sub])"
   ]
  },
  {
   "cell_type": "code",
   "execution_count": 45,
   "metadata": {
    "execution": {
     "iopub.execute_input": "2020-09-19T13:17:35.742091Z",
     "iopub.status.busy": "2020-09-19T13:17:35.741113Z",
     "iopub.status.idle": "2020-09-19T13:17:35.749943Z",
     "shell.execute_reply": "2020-09-19T13:17:35.749333Z"
    },
    "papermill": {
     "duration": 0.106427,
     "end_time": "2020-09-19T13:17:35.750051",
     "exception": false,
     "start_time": "2020-09-19T13:17:35.643624",
     "status": "completed"
    },
    "tags": []
   },
   "outputs": [
    {
     "name": "stdout",
     "output_type": "stream",
     "text": [
      "(1535, 8) (5, 8) (730, 10) (2270, 10)\n",
      "176 5 5 176\n"
     ]
    }
   ],
   "source": [
    "print(tr.shape, chunk.shape, sub.shape, data.shape)\n",
    "print(tr.Patient.nunique(), chunk.Patient.nunique(), sub.Patient.nunique(), \n",
    "      data.Patient.nunique())"
   ]
  },
  {
   "cell_type": "code",
   "execution_count": 46,
   "metadata": {
    "execution": {
     "iopub.execute_input": "2020-09-19T13:17:35.940333Z",
     "iopub.status.busy": "2020-09-19T13:17:35.938876Z",
     "iopub.status.idle": "2020-09-19T13:17:35.952645Z",
     "shell.execute_reply": "2020-09-19T13:17:35.953116Z"
    },
    "papermill": {
     "duration": 0.112775,
     "end_time": "2020-09-19T13:17:35.953270",
     "exception": false,
     "start_time": "2020-09-19T13:17:35.840495",
     "status": "completed"
    },
    "tags": []
   },
   "outputs": [],
   "source": [
    "data['min_week'] = data['Weeks']\n",
    "data.loc[data.WHERE=='test','min_week'] = np.nan\n",
    "data['min_week'] = data.groupby('Patient')['min_week'].transform('min')"
   ]
  },
  {
   "cell_type": "code",
   "execution_count": 47,
   "metadata": {
    "execution": {
     "iopub.execute_input": "2020-09-19T13:17:36.153909Z",
     "iopub.status.busy": "2020-09-19T13:17:36.147582Z",
     "iopub.status.idle": "2020-09-19T13:17:36.157164Z",
     "shell.execute_reply": "2020-09-19T13:17:36.156619Z"
    },
    "papermill": {
     "duration": 0.112458,
     "end_time": "2020-09-19T13:17:36.157286",
     "exception": false,
     "start_time": "2020-09-19T13:17:36.044828",
     "status": "completed"
    },
    "tags": []
   },
   "outputs": [],
   "source": [
    "base = data.loc[data.Weeks == data.min_week]\n",
    "base = base[['Patient','FVC']].copy()\n",
    "base.columns = ['Patient','min_FVC']\n",
    "base['nb'] = 1\n",
    "base['nb'] = base.groupby('Patient')['nb'].transform('cumsum')\n",
    "base = base[base.nb==1]\n",
    "base.drop('nb', axis=1, inplace=True)"
   ]
  },
  {
   "cell_type": "code",
   "execution_count": 48,
   "metadata": {
    "execution": {
     "iopub.execute_input": "2020-09-19T13:17:36.381397Z",
     "iopub.status.busy": "2020-09-19T13:17:36.380295Z",
     "iopub.status.idle": "2020-09-19T13:17:36.390856Z",
     "shell.execute_reply": "2020-09-19T13:17:36.390152Z"
    },
    "papermill": {
     "duration": 0.138667,
     "end_time": "2020-09-19T13:17:36.390972",
     "exception": false,
     "start_time": "2020-09-19T13:17:36.252305",
     "status": "completed"
    },
    "tags": []
   },
   "outputs": [],
   "source": [
    "data = data.merge(base, on='Patient', how='left')\n",
    "data['base_week'] = data['Weeks'] - data['min_week']\n",
    "del base"
   ]
  },
  {
   "cell_type": "code",
   "execution_count": 49,
   "metadata": {
    "execution": {
     "iopub.execute_input": "2020-09-19T13:17:36.608538Z",
     "iopub.status.busy": "2020-09-19T13:17:36.607552Z",
     "iopub.status.idle": "2020-09-19T13:17:36.614820Z",
     "shell.execute_reply": "2020-09-19T13:17:36.615474Z"
    },
    "papermill": {
     "duration": 0.112072,
     "end_time": "2020-09-19T13:17:36.615617",
     "exception": false,
     "start_time": "2020-09-19T13:17:36.503545",
     "status": "completed"
    },
    "tags": []
   },
   "outputs": [],
   "source": [
    "COLS = ['Sex','SmokingStatus'] #,'Age'\n",
    "FE = []\n",
    "for col in COLS:\n",
    "    for mod in data[col].unique():\n",
    "        FE.append(mod)\n",
    "        data[mod] = (data[col] == mod).astype(int)"
   ]
  },
  {
   "cell_type": "code",
   "execution_count": 50,
   "metadata": {
    "execution": {
     "iopub.execute_input": "2020-09-19T13:17:36.817786Z",
     "iopub.status.busy": "2020-09-19T13:17:36.816871Z",
     "iopub.status.idle": "2020-09-19T13:17:36.840407Z",
     "shell.execute_reply": "2020-09-19T13:17:36.841162Z"
    },
    "papermill": {
     "duration": 0.131602,
     "end_time": "2020-09-19T13:17:36.841322",
     "exception": false,
     "start_time": "2020-09-19T13:17:36.709720",
     "status": "completed"
    },
    "tags": []
   },
   "outputs": [],
   "source": [
    "#\n",
    "data['age'] = (data['Age'] - data['Age'].min() ) / ( data['Age'].max() - data['Age'].min() )\n",
    "data['BASE'] = (data['min_FVC'] - data['min_FVC'].min() ) / ( data['min_FVC'].max() - data['min_FVC'].min() )\n",
    "data['week'] = (data['base_week'] - data['base_week'].min() ) / ( data['base_week'].max() - data['base_week'].min() )\n",
    "data['percent'] = (data['Percent'] - data['Percent'].min() ) / ( data['Percent'].max() - data['Percent'].min() )\n",
    "FE += ['age','percent','week','BASE']"
   ]
  },
  {
   "cell_type": "code",
   "execution_count": 51,
   "metadata": {
    "execution": {
     "iopub.execute_input": "2020-09-19T13:17:37.030493Z",
     "iopub.status.busy": "2020-09-19T13:17:37.029552Z",
     "iopub.status.idle": "2020-09-19T13:17:37.038161Z",
     "shell.execute_reply": "2020-09-19T13:17:37.037611Z"
    },
    "papermill": {
     "duration": 0.10683,
     "end_time": "2020-09-19T13:17:37.038307",
     "exception": false,
     "start_time": "2020-09-19T13:17:36.931477",
     "status": "completed"
    },
    "tags": []
   },
   "outputs": [],
   "source": [
    "tr = data.loc[data.WHERE=='train']\n",
    "chunk = data.loc[data.WHERE=='val']\n",
    "sub = data.loc[data.WHERE=='test']\n",
    "del data"
   ]
  },
  {
   "cell_type": "code",
   "execution_count": 52,
   "metadata": {
    "execution": {
     "iopub.execute_input": "2020-09-19T13:17:37.227894Z",
     "iopub.status.busy": "2020-09-19T13:17:37.226711Z",
     "iopub.status.idle": "2020-09-19T13:17:37.230958Z",
     "shell.execute_reply": "2020-09-19T13:17:37.231469Z"
    },
    "papermill": {
     "duration": 0.101387,
     "end_time": "2020-09-19T13:17:37.231641",
     "exception": false,
     "start_time": "2020-09-19T13:17:37.130254",
     "status": "completed"
    },
    "tags": []
   },
   "outputs": [
    {
     "data": {
      "text/plain": [
       "((1535, 22), (5, 22), (730, 22))"
      ]
     },
     "execution_count": 52,
     "metadata": {},
     "output_type": "execute_result"
    }
   ],
   "source": [
    "tr.shape, chunk.shape, sub.shape"
   ]
  },
  {
   "cell_type": "markdown",
   "metadata": {
    "papermill": {
     "duration": 0.172799,
     "end_time": "2020-09-19T13:17:37.509483",
     "exception": false,
     "start_time": "2020-09-19T13:17:37.336684",
     "status": "completed"
    },
    "tags": []
   },
   "source": [
    "## 4.3 The change of mloss <a class=\"anchor\" id=\"4.3\"></a>\n",
    "\n",
    "[Back to Table of Contents](#0.1)"
   ]
  },
  {
   "cell_type": "code",
   "execution_count": 53,
   "metadata": {
    "execution": {
     "iopub.execute_input": "2020-09-19T13:17:37.848900Z",
     "iopub.status.busy": "2020-09-19T13:17:37.847931Z",
     "iopub.status.idle": "2020-09-19T13:17:37.874729Z",
     "shell.execute_reply": "2020-09-19T13:17:37.875785Z"
    },
    "papermill": {
     "duration": 0.170537,
     "end_time": "2020-09-19T13:17:37.875966",
     "exception": false,
     "start_time": "2020-09-19T13:17:37.705429",
     "status": "completed"
    },
    "tags": []
   },
   "outputs": [],
   "source": [
    "C1, C2 = tf.constant(70, dtype='float32'), tf.constant(1000, dtype=\"float32\")\n",
    "\n",
    "def score(y_true, y_pred):\n",
    "    tf.dtypes.cast(y_true, tf.float32)\n",
    "    tf.dtypes.cast(y_pred, tf.float32)\n",
    "    sigma = y_pred[:, 2] - y_pred[:, 0]\n",
    "    fvc_pred = y_pred[:, 1]\n",
    "    \n",
    "    #sigma_clip = sigma + C1\n",
    "    sigma_clip = tf.maximum(sigma, C1)\n",
    "    delta = tf.abs(y_true[:, 0] - fvc_pred)\n",
    "    delta = tf.minimum(delta, C2)\n",
    "    sq2 = tf.sqrt( tf.dtypes.cast(2, dtype=tf.float32) )\n",
    "    metric = (delta / sigma_clip)*sq2 + tf.math.log(sigma_clip* sq2)\n",
    "    return K.mean(metric)\n",
    "\n",
    "def qloss(y_true, y_pred):\n",
    "    # Pinball loss for multiple quantiles\n",
    "    qs = [0.2, 0.50, 0.8]\n",
    "    q = tf.constant(np.array([qs]), dtype=tf.float32)\n",
    "    e = y_true - y_pred\n",
    "    v = tf.maximum(q*e, (q-1)*e)\n",
    "    return K.mean(v)\n",
    "\n",
    "def mloss(_lambda):\n",
    "    def loss(y_true, y_pred):\n",
    "        return _lambda * qloss(y_true, y_pred) + (1 - _lambda)*score(y_true, y_pred)\n",
    "    return loss\n",
    "\n",
    "def make_model(nh):\n",
    "    z = L.Input((nh,), name=\"Patient\")\n",
    "    x = L.Dense(100, activation=\"relu\", name=\"d1\")(z)\n",
    "    x = L.Dense(100, activation=\"relu\", name=\"d2\")(x)\n",
    "    p1 = L.Dense(3, activation=\"linear\", name=\"p1\")(x)\n",
    "    p2 = L.Dense(3, activation=\"relu\", name=\"p2\")(x)\n",
    "    preds = L.Lambda(lambda x: x[0] + tf.cumsum(x[1], axis=1), \n",
    "                     name=\"preds\")([p1, p2])\n",
    "    \n",
    "    model = M.Model(z, preds, name=\"CNN\")\n",
    "    model.compile(loss=mloss(0.65), optimizer=tf.keras.optimizers.Adam(lr=0.1, beta_1=0.9, beta_2=0.999, epsilon=None, decay=0.01, amsgrad=False), metrics=[score])\n",
    "    return model"
   ]
  },
  {
   "cell_type": "code",
   "execution_count": 54,
   "metadata": {
    "execution": {
     "iopub.execute_input": "2020-09-19T13:17:38.163061Z",
     "iopub.status.busy": "2020-09-19T13:17:38.162421Z",
     "iopub.status.idle": "2020-09-19T13:17:38.173716Z",
     "shell.execute_reply": "2020-09-19T13:17:38.168748Z"
    },
    "papermill": {
     "duration": 0.168064,
     "end_time": "2020-09-19T13:17:38.173924",
     "exception": false,
     "start_time": "2020-09-19T13:17:38.005860",
     "status": "completed"
    },
    "tags": []
   },
   "outputs": [],
   "source": [
    "y = tr['FVC'].values\n",
    "z = tr[FE].values\n",
    "ze = sub[FE].values\n",
    "nh = z.shape[1]\n",
    "pe = np.zeros((ze.shape[0], 3))\n",
    "pred = np.zeros((z.shape[0], 3))"
   ]
  },
  {
   "cell_type": "code",
   "execution_count": 55,
   "metadata": {
    "execution": {
     "iopub.execute_input": "2020-09-19T13:17:38.487385Z",
     "iopub.status.busy": "2020-09-19T13:17:38.486474Z",
     "iopub.status.idle": "2020-09-19T13:17:38.634232Z",
     "shell.execute_reply": "2020-09-19T13:17:38.635476Z"
    },
    "papermill": {
     "duration": 0.318805,
     "end_time": "2020-09-19T13:17:38.635679",
     "exception": false,
     "start_time": "2020-09-19T13:17:38.316874",
     "status": "completed"
    },
    "tags": []
   },
   "outputs": [
    {
     "name": "stdout",
     "output_type": "stream",
     "text": [
      "Model: \"CNN\"\n",
      "__________________________________________________________________________________________________\n",
      "Layer (type)                    Output Shape         Param #     Connected to                     \n",
      "==================================================================================================\n",
      "Patient (InputLayer)            [(None, 9)]          0                                            \n",
      "__________________________________________________________________________________________________\n",
      "d1 (Dense)                      (None, 100)          1000        Patient[0][0]                    \n",
      "__________________________________________________________________________________________________\n",
      "d2 (Dense)                      (None, 100)          10100       d1[0][0]                         \n",
      "__________________________________________________________________________________________________\n",
      "p1 (Dense)                      (None, 3)            303         d2[0][0]                         \n",
      "__________________________________________________________________________________________________\n",
      "p2 (Dense)                      (None, 3)            303         d2[0][0]                         \n",
      "__________________________________________________________________________________________________\n",
      "preds (Lambda)                  (None, 3)            0           p1[0][0]                         \n",
      "                                                                 p2[0][0]                         \n",
      "==================================================================================================\n",
      "Total params: 11,706\n",
      "Trainable params: 11,706\n",
      "Non-trainable params: 0\n",
      "__________________________________________________________________________________________________\n",
      "None\n",
      "11706\n"
     ]
    }
   ],
   "source": [
    "net = make_model(nh)\n",
    "print(net.summary())\n",
    "print(net.count_params())"
   ]
  },
  {
   "cell_type": "code",
   "execution_count": 56,
   "metadata": {
    "execution": {
     "iopub.execute_input": "2020-09-19T13:17:38.855019Z",
     "iopub.status.busy": "2020-09-19T13:17:38.853966Z",
     "iopub.status.idle": "2020-09-19T13:17:38.856191Z",
     "shell.execute_reply": "2020-09-19T13:17:38.856804Z"
    },
    "papermill": {
     "duration": 0.10309,
     "end_time": "2020-09-19T13:17:38.856945",
     "exception": false,
     "start_time": "2020-09-19T13:17:38.753855",
     "status": "completed"
    },
    "tags": []
   },
   "outputs": [],
   "source": [
    "NFOLD = 5 # originally 5\n",
    "kf = KFold(n_splits=NFOLD)"
   ]
  },
  {
   "cell_type": "code",
   "execution_count": 57,
   "metadata": {
    "execution": {
     "iopub.execute_input": "2020-09-19T13:17:39.060550Z",
     "iopub.status.busy": "2020-09-19T13:17:39.059452Z",
     "iopub.status.idle": "2020-09-19T13:21:45.985706Z",
     "shell.execute_reply": "2020-09-19T13:21:45.986706Z"
    },
    "papermill": {
     "duration": 247.036553,
     "end_time": "2020-09-19T13:21:45.986956",
     "exception": false,
     "start_time": "2020-09-19T13:17:38.950403",
     "status": "completed"
    },
    "tags": []
   },
   "outputs": [
    {
     "name": "stdout",
     "output_type": "stream",
     "text": [
      "FOLD 1\n",
      "train [34.26871871948242, 6.513584136962891]\n",
      "val [40.77041244506836, 6.815109729766846]\n",
      "predict val...\n",
      "predict test...\n",
      "FOLD 2\n",
      "train [32.534976959228516, 6.466352939605713]\n",
      "val [46.84785461425781, 6.927820682525635]\n",
      "predict val...\n",
      "predict test...\n",
      "FOLD 3\n",
      "train [31.752376556396484, 6.432339668273926]\n",
      "val [48.342769622802734, 6.778236389160156]\n",
      "predict val...\n",
      "predict test...\n",
      "FOLD 4\n",
      "train [34.671234130859375, 6.537336826324463]\n",
      "val [35.4522705078125, 6.5579094886779785]\n",
      "predict val...\n",
      "predict test...\n",
      "FOLD 5\n",
      "train [31.711185455322266, 6.435805320739746]\n",
      "val [40.830562591552734, 6.774467468261719]\n",
      "predict val...\n",
      "predict test...\n",
      "CPU times: user 4min 33s, sys: 16.4 s, total: 4min 49s\n",
      "Wall time: 4min 6s\n"
     ]
    }
   ],
   "source": [
    "%%time\n",
    "cnt = 0\n",
    "EPOCHS = 800\n",
    "for tr_idx, val_idx in kf.split(z):\n",
    "    cnt += 1\n",
    "    print(f\"FOLD {cnt}\")\n",
    "    net = make_model(nh)\n",
    "    net.fit(z[tr_idx], y[tr_idx], batch_size=BATCH_SIZE, epochs=EPOCHS, \n",
    "            validation_data=(z[val_idx], y[val_idx]), verbose=0) #\n",
    "    print(\"train\", net.evaluate(z[tr_idx], y[tr_idx], verbose=0, batch_size=BATCH_SIZE))\n",
    "    print(\"val\", net.evaluate(z[val_idx], y[val_idx], verbose=0, batch_size=BATCH_SIZE))\n",
    "    print(\"predict val...\")\n",
    "    pred[val_idx] = net.predict(z[val_idx], batch_size=BATCH_SIZE, verbose=0)\n",
    "    print(\"predict test...\")\n",
    "    pe += net.predict(ze, batch_size=BATCH_SIZE, verbose=0) / NFOLD"
   ]
  },
  {
   "cell_type": "code",
   "execution_count": 58,
   "metadata": {
    "execution": {
     "iopub.execute_input": "2020-09-19T13:21:46.193526Z",
     "iopub.status.busy": "2020-09-19T13:21:46.192668Z",
     "iopub.status.idle": "2020-09-19T13:21:46.197156Z",
     "shell.execute_reply": "2020-09-19T13:21:46.197714Z"
    },
    "papermill": {
     "duration": 0.111604,
     "end_time": "2020-09-19T13:21:46.197851",
     "exception": false,
     "start_time": "2020-09-19T13:21:46.086247",
     "status": "completed"
    },
    "tags": []
   },
   "outputs": [
    {
     "name": "stdout",
     "output_type": "stream",
     "text": [
      "147.54423979221804 230.28511414170654\n"
     ]
    }
   ],
   "source": [
    "sigma_opt = mean_absolute_error(y, pred[:, 1])\n",
    "unc = pred[:,2] - pred[:, 0]\n",
    "sigma_mean = np.mean(unc)\n",
    "print(sigma_opt, sigma_mean)"
   ]
  },
  {
   "cell_type": "code",
   "execution_count": 59,
   "metadata": {
    "execution": {
     "iopub.execute_input": "2020-09-19T13:21:46.406185Z",
     "iopub.status.busy": "2020-09-19T13:21:46.405395Z",
     "iopub.status.idle": "2020-09-19T13:21:46.671236Z",
     "shell.execute_reply": "2020-09-19T13:21:46.671790Z"
    },
    "papermill": {
     "duration": 0.37314,
     "end_time": "2020-09-19T13:21:46.671944",
     "exception": false,
     "start_time": "2020-09-19T13:21:46.298804",
     "status": "completed"
    },
    "tags": []
   },
   "outputs": [
    {
     "data": {
      "image/png": "[encoded data removed]",
      "text/plain": [
       "<Figure size 432x288 with 1 Axes>"
      ]
     },
     "metadata": {
      "needs_background": "light"
     },
     "output_type": "display_data"
    }
   ],
   "source": [
    "idxs = np.random.randint(0, y.shape[0], 100)\n",
    "plt.plot(y[idxs], label=\"ground truth\")\n",
    "plt.plot(pred[idxs, 0], label=\"q25\")\n",
    "plt.plot(pred[idxs, 1], label=\"q50\")\n",
    "plt.plot(pred[idxs, 2], label=\"q75\")\n",
    "plt.legend(loc=\"best\")\n",
    "plt.show()"
   ]
  },
  {
   "cell_type": "code",
   "execution_count": 60,
   "metadata": {
    "execution": {
     "iopub.execute_input": "2020-09-19T13:21:46.877624Z",
     "iopub.status.busy": "2020-09-19T13:21:46.875016Z",
     "iopub.status.idle": "2020-09-19T13:21:46.880691Z",
     "shell.execute_reply": "2020-09-19T13:21:46.879779Z"
    },
    "papermill": {
     "duration": 0.110861,
     "end_time": "2020-09-19T13:21:46.880862",
     "exception": false,
     "start_time": "2020-09-19T13:21:46.770001",
     "status": "completed"
    },
    "tags": []
   },
   "outputs": [
    {
     "name": "stdout",
     "output_type": "stream",
     "text": [
      "12.16650390625 230.28511414170654 385.734375 1.0\n"
     ]
    }
   ],
   "source": [
    "print(unc.min(), unc.mean(), unc.max(), (unc>=0).mean())"
   ]
  },
  {
   "cell_type": "code",
   "execution_count": 61,
   "metadata": {
    "execution": {
     "iopub.execute_input": "2020-09-19T13:21:47.094402Z",
     "iopub.status.busy": "2020-09-19T13:21:47.092534Z",
     "iopub.status.idle": "2020-09-19T13:21:47.281985Z",
     "shell.execute_reply": "2020-09-19T13:21:47.282702Z"
    },
    "papermill": {
     "duration": 0.302499,
     "end_time": "2020-09-19T13:21:47.282859",
     "exception": false,
     "start_time": "2020-09-19T13:21:46.980360",
     "status": "completed"
    },
    "tags": []
   },
   "outputs": [
    {
     "data": {
      "image/png": "[encoded data removed]",
      "text/plain": [
       "<Figure size 432x288 with 1 Axes>"
      ]
     },
     "metadata": {
      "needs_background": "light"
     },
     "output_type": "display_data"
    }
   ],
   "source": [
    "plt.hist(unc)\n",
    "plt.title(\"uncertainty in prediction\")\n",
    "plt.show()"
   ]
  },
  {
   "cell_type": "code",
   "execution_count": 62,
   "metadata": {
    "execution": {
     "iopub.execute_input": "2020-09-19T13:21:47.520579Z",
     "iopub.status.busy": "2020-09-19T13:21:47.518777Z",
     "iopub.status.idle": "2020-09-19T13:21:47.524665Z",
     "shell.execute_reply": "2020-09-19T13:21:47.525282Z"
    },
    "papermill": {
     "duration": 0.142084,
     "end_time": "2020-09-19T13:21:47.525453",
     "exception": false,
     "start_time": "2020-09-19T13:21:47.383369",
     "status": "completed"
    },
    "tags": []
   },
   "outputs": [
    {
     "data": {
      "text/html": [
       "<div>\n",
       "<style scoped>\n",
       "    .dataframe tbody tr th:only-of-type {\n",
       "        vertical-align: middle;\n",
       "    }\n",
       "\n",
       "    .dataframe tbody tr th {\n",
       "        vertical-align: top;\n",
       "    }\n",
       "\n",
       "    .dataframe thead th {\n",
       "        text-align: right;\n",
       "    }\n",
       "</style>\n",
       "<table border=\"1\" class=\"dataframe\">\n",
       "  <thead>\n",
       "    <tr style=\"text-align: right;\">\n",
       "      <th></th>\n",
       "      <th>Patient</th>\n",
       "      <th>Weeks</th>\n",
       "      <th>FVC</th>\n",
       "      <th>Percent</th>\n",
       "      <th>Age</th>\n",
       "      <th>Sex</th>\n",
       "      <th>SmokingStatus</th>\n",
       "      <th>WHERE</th>\n",
       "      <th>Confidence</th>\n",
       "      <th>Patient_Week</th>\n",
       "      <th>...</th>\n",
       "      <th>base_week</th>\n",
       "      <th>Male</th>\n",
       "      <th>Female</th>\n",
       "      <th>Ex-smoker</th>\n",
       "      <th>Never smoked</th>\n",
       "      <th>Currently smokes</th>\n",
       "      <th>age</th>\n",
       "      <th>BASE</th>\n",
       "      <th>week</th>\n",
       "      <th>percent</th>\n",
       "    </tr>\n",
       "  </thead>\n",
       "  <tbody>\n",
       "    <tr>\n",
       "      <th>1540</th>\n",
       "      <td>ID00419637202311204720264</td>\n",
       "      <td>-12</td>\n",
       "      <td>3020</td>\n",
       "      <td>70.186855</td>\n",
       "      <td>73</td>\n",
       "      <td>Male</td>\n",
       "      <td>Ex-smoker</td>\n",
       "      <td>test</td>\n",
       "      <td>100.0</td>\n",
       "      <td>ID00419637202311204720264_-12</td>\n",
       "      <td>...</td>\n",
       "      <td>-18.0</td>\n",
       "      <td>1</td>\n",
       "      <td>0</td>\n",
       "      <td>1</td>\n",
       "      <td>0</td>\n",
       "      <td>0</td>\n",
       "      <td>0.615385</td>\n",
       "      <td>0.3724</td>\n",
       "      <td>0.067901</td>\n",
       "      <td>0.332421</td>\n",
       "    </tr>\n",
       "    <tr>\n",
       "      <th>1541</th>\n",
       "      <td>ID00419637202311204720264</td>\n",
       "      <td>-11</td>\n",
       "      <td>3020</td>\n",
       "      <td>70.186855</td>\n",
       "      <td>73</td>\n",
       "      <td>Male</td>\n",
       "      <td>Ex-smoker</td>\n",
       "      <td>test</td>\n",
       "      <td>100.0</td>\n",
       "      <td>ID00419637202311204720264_-11</td>\n",
       "      <td>...</td>\n",
       "      <td>-17.0</td>\n",
       "      <td>1</td>\n",
       "      <td>0</td>\n",
       "      <td>1</td>\n",
       "      <td>0</td>\n",
       "      <td>0</td>\n",
       "      <td>0.615385</td>\n",
       "      <td>0.3724</td>\n",
       "      <td>0.074074</td>\n",
       "      <td>0.332421</td>\n",
       "    </tr>\n",
       "    <tr>\n",
       "      <th>1542</th>\n",
       "      <td>ID00419637202311204720264</td>\n",
       "      <td>-10</td>\n",
       "      <td>3020</td>\n",
       "      <td>70.186855</td>\n",
       "      <td>73</td>\n",
       "      <td>Male</td>\n",
       "      <td>Ex-smoker</td>\n",
       "      <td>test</td>\n",
       "      <td>100.0</td>\n",
       "      <td>ID00419637202311204720264_-10</td>\n",
       "      <td>...</td>\n",
       "      <td>-16.0</td>\n",
       "      <td>1</td>\n",
       "      <td>0</td>\n",
       "      <td>1</td>\n",
       "      <td>0</td>\n",
       "      <td>0</td>\n",
       "      <td>0.615385</td>\n",
       "      <td>0.3724</td>\n",
       "      <td>0.080247</td>\n",
       "      <td>0.332421</td>\n",
       "    </tr>\n",
       "    <tr>\n",
       "      <th>1543</th>\n",
       "      <td>ID00419637202311204720264</td>\n",
       "      <td>-9</td>\n",
       "      <td>3020</td>\n",
       "      <td>70.186855</td>\n",
       "      <td>73</td>\n",
       "      <td>Male</td>\n",
       "      <td>Ex-smoker</td>\n",
       "      <td>test</td>\n",
       "      <td>100.0</td>\n",
       "      <td>ID00419637202311204720264_-9</td>\n",
       "      <td>...</td>\n",
       "      <td>-15.0</td>\n",
       "      <td>1</td>\n",
       "      <td>0</td>\n",
       "      <td>1</td>\n",
       "      <td>0</td>\n",
       "      <td>0</td>\n",
       "      <td>0.615385</td>\n",
       "      <td>0.3724</td>\n",
       "      <td>0.086420</td>\n",
       "      <td>0.332421</td>\n",
       "    </tr>\n",
       "    <tr>\n",
       "      <th>1544</th>\n",
       "      <td>ID00419637202311204720264</td>\n",
       "      <td>-8</td>\n",
       "      <td>3020</td>\n",
       "      <td>70.186855</td>\n",
       "      <td>73</td>\n",
       "      <td>Male</td>\n",
       "      <td>Ex-smoker</td>\n",
       "      <td>test</td>\n",
       "      <td>100.0</td>\n",
       "      <td>ID00419637202311204720264_-8</td>\n",
       "      <td>...</td>\n",
       "      <td>-14.0</td>\n",
       "      <td>1</td>\n",
       "      <td>0</td>\n",
       "      <td>1</td>\n",
       "      <td>0</td>\n",
       "      <td>0</td>\n",
       "      <td>0.615385</td>\n",
       "      <td>0.3724</td>\n",
       "      <td>0.092593</td>\n",
       "      <td>0.332421</td>\n",
       "    </tr>\n",
       "  </tbody>\n",
       "</table>\n",
       "<p>5 rows × 22 columns</p>\n",
       "</div>"
      ],
      "text/plain": [
       "                        Patient  Weeks   FVC    Percent  Age   Sex  \\\n",
       "1540  ID00419637202311204720264    -12  3020  70.186855   73  Male   \n",
       "1541  ID00419637202311204720264    -11  3020  70.186855   73  Male   \n",
       "1542  ID00419637202311204720264    -10  3020  70.186855   73  Male   \n",
       "1543  ID00419637202311204720264     -9  3020  70.186855   73  Male   \n",
       "1544  ID00419637202311204720264     -8  3020  70.186855   73  Male   \n",
       "\n",
       "     SmokingStatus WHERE  Confidence                   Patient_Week  ...  \\\n",
       "1540     Ex-smoker  test       100.0  ID00419637202311204720264_-12  ...   \n",
       "1541     Ex-smoker  test       100.0  ID00419637202311204720264_-11  ...   \n",
       "1542     Ex-smoker  test       100.0  ID00419637202311204720264_-10  ...   \n",
       "1543     Ex-smoker  test       100.0   ID00419637202311204720264_-9  ...   \n",
       "1544     Ex-smoker  test       100.0   ID00419637202311204720264_-8  ...   \n",
       "\n",
       "      base_week  Male  Female  Ex-smoker  Never smoked  Currently smokes  \\\n",
       "1540      -18.0     1       0          1             0                 0   \n",
       "1541      -17.0     1       0          1             0                 0   \n",
       "1542      -16.0     1       0          1             0                 0   \n",
       "1543      -15.0     1       0          1             0                 0   \n",
       "1544      -14.0     1       0          1             0                 0   \n",
       "\n",
       "           age    BASE      week   percent  \n",
       "1540  0.615385  0.3724  0.067901  0.332421  \n",
       "1541  0.615385  0.3724  0.074074  0.332421  \n",
       "1542  0.615385  0.3724  0.080247  0.332421  \n",
       "1543  0.615385  0.3724  0.086420  0.332421  \n",
       "1544  0.615385  0.3724  0.092593  0.332421  \n",
       "\n",
       "[5 rows x 22 columns]"
      ]
     },
     "execution_count": 62,
     "metadata": {},
     "output_type": "execute_result"
    }
   ],
   "source": [
    "sub.head()"
   ]
  },
  {
   "cell_type": "code",
   "execution_count": 63,
   "metadata": {
    "execution": {
     "iopub.execute_input": "2020-09-19T13:21:47.757353Z",
     "iopub.status.busy": "2020-09-19T13:21:47.756449Z",
     "iopub.status.idle": "2020-09-19T13:21:47.777109Z",
     "shell.execute_reply": "2020-09-19T13:21:47.777720Z"
    },
    "papermill": {
     "duration": 0.138746,
     "end_time": "2020-09-19T13:21:47.777870",
     "exception": false,
     "start_time": "2020-09-19T13:21:47.639124",
     "status": "completed"
    },
    "tags": []
   },
   "outputs": [
    {
     "data": {
      "text/html": [
       "<div>\n",
       "<style scoped>\n",
       "    .dataframe tbody tr th:only-of-type {\n",
       "        vertical-align: middle;\n",
       "    }\n",
       "\n",
       "    .dataframe tbody tr th {\n",
       "        vertical-align: top;\n",
       "    }\n",
       "\n",
       "    .dataframe thead th {\n",
       "        text-align: right;\n",
       "    }\n",
       "</style>\n",
       "<table border=\"1\" class=\"dataframe\">\n",
       "  <thead>\n",
       "    <tr style=\"text-align: right;\">\n",
       "      <th></th>\n",
       "      <th>Patient_Week</th>\n",
       "      <th>FVC</th>\n",
       "      <th>Confidence</th>\n",
       "      <th>FVC1</th>\n",
       "      <th>Confidence1</th>\n",
       "    </tr>\n",
       "  </thead>\n",
       "  <tbody>\n",
       "    <tr>\n",
       "      <th>1540</th>\n",
       "      <td>ID00419637202311204720264_-12</td>\n",
       "      <td>3020</td>\n",
       "      <td>100.0</td>\n",
       "      <td>2868.506897</td>\n",
       "      <td>235.997925</td>\n",
       "    </tr>\n",
       "    <tr>\n",
       "      <th>1541</th>\n",
       "      <td>ID00419637202311204720264_-11</td>\n",
       "      <td>3020</td>\n",
       "      <td>100.0</td>\n",
       "      <td>2866.019836</td>\n",
       "      <td>237.181458</td>\n",
       "    </tr>\n",
       "    <tr>\n",
       "      <th>1542</th>\n",
       "      <td>ID00419637202311204720264_-10</td>\n",
       "      <td>3020</td>\n",
       "      <td>100.0</td>\n",
       "      <td>2863.532959</td>\n",
       "      <td>238.364929</td>\n",
       "    </tr>\n",
       "    <tr>\n",
       "      <th>1543</th>\n",
       "      <td>ID00419637202311204720264_-9</td>\n",
       "      <td>3020</td>\n",
       "      <td>100.0</td>\n",
       "      <td>2861.045959</td>\n",
       "      <td>239.548645</td>\n",
       "    </tr>\n",
       "    <tr>\n",
       "      <th>1544</th>\n",
       "      <td>ID00419637202311204720264_-8</td>\n",
       "      <td>3020</td>\n",
       "      <td>100.0</td>\n",
       "      <td>2858.558960</td>\n",
       "      <td>240.732117</td>\n",
       "    </tr>\n",
       "    <tr>\n",
       "      <th>1545</th>\n",
       "      <td>ID00419637202311204720264_-7</td>\n",
       "      <td>3020</td>\n",
       "      <td>100.0</td>\n",
       "      <td>2856.072021</td>\n",
       "      <td>241.915771</td>\n",
       "    </tr>\n",
       "    <tr>\n",
       "      <th>1546</th>\n",
       "      <td>ID00419637202311204720264_-6</td>\n",
       "      <td>3020</td>\n",
       "      <td>100.0</td>\n",
       "      <td>2853.585205</td>\n",
       "      <td>243.099487</td>\n",
       "    </tr>\n",
       "    <tr>\n",
       "      <th>1547</th>\n",
       "      <td>ID00419637202311204720264_-5</td>\n",
       "      <td>3020</td>\n",
       "      <td>100.0</td>\n",
       "      <td>2851.098206</td>\n",
       "      <td>244.282898</td>\n",
       "    </tr>\n",
       "    <tr>\n",
       "      <th>1548</th>\n",
       "      <td>ID00419637202311204720264_-4</td>\n",
       "      <td>3020</td>\n",
       "      <td>100.0</td>\n",
       "      <td>2848.611206</td>\n",
       "      <td>245.466553</td>\n",
       "    </tr>\n",
       "    <tr>\n",
       "      <th>1549</th>\n",
       "      <td>ID00419637202311204720264_-3</td>\n",
       "      <td>3020</td>\n",
       "      <td>100.0</td>\n",
       "      <td>2846.124207</td>\n",
       "      <td>246.649841</td>\n",
       "    </tr>\n",
       "  </tbody>\n",
       "</table>\n",
       "</div>"
      ],
      "text/plain": [
       "                       Patient_Week   FVC  Confidence         FVC1  \\\n",
       "1540  ID00419637202311204720264_-12  3020       100.0  2868.506897   \n",
       "1541  ID00419637202311204720264_-11  3020       100.0  2866.019836   \n",
       "1542  ID00419637202311204720264_-10  3020       100.0  2863.532959   \n",
       "1543   ID00419637202311204720264_-9  3020       100.0  2861.045959   \n",
       "1544   ID00419637202311204720264_-8  3020       100.0  2858.558960   \n",
       "1545   ID00419637202311204720264_-7  3020       100.0  2856.072021   \n",
       "1546   ID00419637202311204720264_-6  3020       100.0  2853.585205   \n",
       "1547   ID00419637202311204720264_-5  3020       100.0  2851.098206   \n",
       "1548   ID00419637202311204720264_-4  3020       100.0  2848.611206   \n",
       "1549   ID00419637202311204720264_-3  3020       100.0  2846.124207   \n",
       "\n",
       "      Confidence1  \n",
       "1540   235.997925  \n",
       "1541   237.181458  \n",
       "1542   238.364929  \n",
       "1543   239.548645  \n",
       "1544   240.732117  \n",
       "1545   241.915771  \n",
       "1546   243.099487  \n",
       "1547   244.282898  \n",
       "1548   245.466553  \n",
       "1549   246.649841  "
      ]
     },
     "execution_count": 63,
     "metadata": {},
     "output_type": "execute_result"
    }
   ],
   "source": [
    "# PREDICTION\n",
    "sub['FVC1'] = 1.*pe[:, 1]\n",
    "sub['Confidence1'] = pe[:, 2] - pe[:, 0]\n",
    "subm = sub[['Patient_Week','FVC','Confidence','FVC1','Confidence1']].copy()\n",
    "subm.loc[~subm.FVC1.isnull()].head(10)"
   ]
  },
  {
   "cell_type": "code",
   "execution_count": 64,
   "metadata": {
    "execution": {
     "iopub.execute_input": "2020-09-19T13:21:48.011850Z",
     "iopub.status.busy": "2020-09-19T13:21:48.010983Z",
     "iopub.status.idle": "2020-09-19T13:21:48.015695Z",
     "shell.execute_reply": "2020-09-19T13:21:48.015088Z"
    },
    "papermill": {
     "duration": 0.122937,
     "end_time": "2020-09-19T13:21:48.015812",
     "exception": false,
     "start_time": "2020-09-19T13:21:47.892875",
     "status": "completed"
    },
    "tags": []
   },
   "outputs": [],
   "source": [
    "subm.loc[~subm.FVC1.isnull(),'FVC'] = subm.loc[~subm.FVC1.isnull(),'FVC1']\n",
    "if sigma_mean<70:\n",
    "    subm['Confidence'] = sigma_opt\n",
    "else:\n",
    "    subm.loc[~subm.FVC1.isnull(),'Confidence'] = subm.loc[~subm.FVC1.isnull(),'Confidence1']"
   ]
  },
  {
   "cell_type": "code",
   "execution_count": 65,
   "metadata": {
    "execution": {
     "iopub.execute_input": "2020-09-19T13:21:48.252433Z",
     "iopub.status.busy": "2020-09-19T13:21:48.251154Z",
     "iopub.status.idle": "2020-09-19T13:21:48.255703Z",
     "shell.execute_reply": "2020-09-19T13:21:48.256299Z"
    },
    "papermill": {
     "duration": 0.12627,
     "end_time": "2020-09-19T13:21:48.256492",
     "exception": false,
     "start_time": "2020-09-19T13:21:48.130222",
     "status": "completed"
    },
    "tags": []
   },
   "outputs": [
    {
     "data": {
      "text/html": [
       "<div>\n",
       "<style scoped>\n",
       "    .dataframe tbody tr th:only-of-type {\n",
       "        vertical-align: middle;\n",
       "    }\n",
       "\n",
       "    .dataframe tbody tr th {\n",
       "        vertical-align: top;\n",
       "    }\n",
       "\n",
       "    .dataframe thead th {\n",
       "        text-align: right;\n",
       "    }\n",
       "</style>\n",
       "<table border=\"1\" class=\"dataframe\">\n",
       "  <thead>\n",
       "    <tr style=\"text-align: right;\">\n",
       "      <th></th>\n",
       "      <th>Patient_Week</th>\n",
       "      <th>FVC</th>\n",
       "      <th>Confidence</th>\n",
       "      <th>FVC1</th>\n",
       "      <th>Confidence1</th>\n",
       "    </tr>\n",
       "  </thead>\n",
       "  <tbody>\n",
       "    <tr>\n",
       "      <th>1540</th>\n",
       "      <td>ID00419637202311204720264_-12</td>\n",
       "      <td>2868.506897</td>\n",
       "      <td>235.997925</td>\n",
       "      <td>2868.506897</td>\n",
       "      <td>235.997925</td>\n",
       "    </tr>\n",
       "    <tr>\n",
       "      <th>1541</th>\n",
       "      <td>ID00419637202311204720264_-11</td>\n",
       "      <td>2866.019836</td>\n",
       "      <td>237.181458</td>\n",
       "      <td>2866.019836</td>\n",
       "      <td>237.181458</td>\n",
       "    </tr>\n",
       "    <tr>\n",
       "      <th>1542</th>\n",
       "      <td>ID00419637202311204720264_-10</td>\n",
       "      <td>2863.532959</td>\n",
       "      <td>238.364929</td>\n",
       "      <td>2863.532959</td>\n",
       "      <td>238.364929</td>\n",
       "    </tr>\n",
       "    <tr>\n",
       "      <th>1543</th>\n",
       "      <td>ID00419637202311204720264_-9</td>\n",
       "      <td>2861.045959</td>\n",
       "      <td>239.548645</td>\n",
       "      <td>2861.045959</td>\n",
       "      <td>239.548645</td>\n",
       "    </tr>\n",
       "    <tr>\n",
       "      <th>1544</th>\n",
       "      <td>ID00419637202311204720264_-8</td>\n",
       "      <td>2858.558960</td>\n",
       "      <td>240.732117</td>\n",
       "      <td>2858.558960</td>\n",
       "      <td>240.732117</td>\n",
       "    </tr>\n",
       "  </tbody>\n",
       "</table>\n",
       "</div>"
      ],
      "text/plain": [
       "                       Patient_Week          FVC  Confidence         FVC1  \\\n",
       "1540  ID00419637202311204720264_-12  2868.506897  235.997925  2868.506897   \n",
       "1541  ID00419637202311204720264_-11  2866.019836  237.181458  2866.019836   \n",
       "1542  ID00419637202311204720264_-10  2863.532959  238.364929  2863.532959   \n",
       "1543   ID00419637202311204720264_-9  2861.045959  239.548645  2861.045959   \n",
       "1544   ID00419637202311204720264_-8  2858.558960  240.732117  2858.558960   \n",
       "\n",
       "      Confidence1  \n",
       "1540   235.997925  \n",
       "1541   237.181458  \n",
       "1542   238.364929  \n",
       "1543   239.548645  \n",
       "1544   240.732117  "
      ]
     },
     "execution_count": 65,
     "metadata": {},
     "output_type": "execute_result"
    }
   ],
   "source": [
    "subm.head()"
   ]
  },
  {
   "cell_type": "code",
   "execution_count": 66,
   "metadata": {
    "execution": {
     "iopub.execute_input": "2020-09-19T13:21:48.487402Z",
     "iopub.status.busy": "2020-09-19T13:21:48.485267Z",
     "iopub.status.idle": "2020-09-19T13:21:48.515218Z",
     "shell.execute_reply": "2020-09-19T13:21:48.514584Z"
    },
    "papermill": {
     "duration": 0.143339,
     "end_time": "2020-09-19T13:21:48.515382",
     "exception": false,
     "start_time": "2020-09-19T13:21:48.372043",
     "status": "completed"
    },
    "tags": []
   },
   "outputs": [
    {
     "data": {
      "text/html": [
       "<div>\n",
       "<style scoped>\n",
       "    .dataframe tbody tr th:only-of-type {\n",
       "        vertical-align: middle;\n",
       "    }\n",
       "\n",
       "    .dataframe tbody tr th {\n",
       "        vertical-align: top;\n",
       "    }\n",
       "\n",
       "    .dataframe thead th {\n",
       "        text-align: right;\n",
       "    }\n",
       "</style>\n",
       "<table border=\"1\" class=\"dataframe\">\n",
       "  <thead>\n",
       "    <tr style=\"text-align: right;\">\n",
       "      <th></th>\n",
       "      <th>count</th>\n",
       "      <th>mean</th>\n",
       "      <th>std</th>\n",
       "      <th>min</th>\n",
       "      <th>25%</th>\n",
       "      <th>50%</th>\n",
       "      <th>75%</th>\n",
       "      <th>max</th>\n",
       "    </tr>\n",
       "  </thead>\n",
       "  <tbody>\n",
       "    <tr>\n",
       "      <th>FVC</th>\n",
       "      <td>730.0</td>\n",
       "      <td>2641.222659</td>\n",
       "      <td>329.968662</td>\n",
       "      <td>1954.084534</td>\n",
       "      <td>2583.998199</td>\n",
       "      <td>2686.490753</td>\n",
       "      <td>2821.747696</td>\n",
       "      <td>3209.278259</td>\n",
       "    </tr>\n",
       "    <tr>\n",
       "      <th>Confidence</th>\n",
       "      <td>730.0</td>\n",
       "      <td>285.447498</td>\n",
       "      <td>46.539541</td>\n",
       "      <td>183.962708</td>\n",
       "      <td>249.529610</td>\n",
       "      <td>285.468948</td>\n",
       "      <td>322.977737</td>\n",
       "      <td>375.795715</td>\n",
       "    </tr>\n",
       "    <tr>\n",
       "      <th>FVC1</th>\n",
       "      <td>730.0</td>\n",
       "      <td>2641.222659</td>\n",
       "      <td>329.968662</td>\n",
       "      <td>1954.084534</td>\n",
       "      <td>2583.998199</td>\n",
       "      <td>2686.490753</td>\n",
       "      <td>2821.747696</td>\n",
       "      <td>3209.278259</td>\n",
       "    </tr>\n",
       "    <tr>\n",
       "      <th>Confidence1</th>\n",
       "      <td>730.0</td>\n",
       "      <td>285.447498</td>\n",
       "      <td>46.539541</td>\n",
       "      <td>183.962708</td>\n",
       "      <td>249.529610</td>\n",
       "      <td>285.468948</td>\n",
       "      <td>322.977737</td>\n",
       "      <td>375.795715</td>\n",
       "    </tr>\n",
       "  </tbody>\n",
       "</table>\n",
       "</div>"
      ],
      "text/plain": [
       "             count         mean         std          min          25%  \\\n",
       "FVC          730.0  2641.222659  329.968662  1954.084534  2583.998199   \n",
       "Confidence   730.0   285.447498   46.539541   183.962708   249.529610   \n",
       "FVC1         730.0  2641.222659  329.968662  1954.084534  2583.998199   \n",
       "Confidence1  730.0   285.447498   46.539541   183.962708   249.529610   \n",
       "\n",
       "                     50%          75%          max  \n",
       "FVC          2686.490753  2821.747696  3209.278259  \n",
       "Confidence    285.468948   322.977737   375.795715  \n",
       "FVC1         2686.490753  2821.747696  3209.278259  \n",
       "Confidence1   285.468948   322.977737   375.795715  "
      ]
     },
     "execution_count": 66,
     "metadata": {},
     "output_type": "execute_result"
    }
   ],
   "source": [
    "subm.describe().T"
   ]
  },
  {
   "cell_type": "code",
   "execution_count": 67,
   "metadata": {
    "execution": {
     "iopub.execute_input": "2020-09-19T13:21:48.773610Z",
     "iopub.status.busy": "2020-09-19T13:21:48.771493Z",
     "iopub.status.idle": "2020-09-19T13:21:48.774457Z",
     "shell.execute_reply": "2020-09-19T13:21:48.775018Z"
    },
    "papermill": {
     "duration": 0.144552,
     "end_time": "2020-09-19T13:21:48.775172",
     "exception": false,
     "start_time": "2020-09-19T13:21:48.630620",
     "status": "completed"
    },
    "tags": []
   },
   "outputs": [],
   "source": [
    "otest = pd.read_csv('../input/osic-pulmonary-fibrosis-progression/test.csv')\n",
    "for i in range(len(otest)):\n",
    "    subm.loc[subm['Patient_Week']==otest.Patient[i]+'_'+str(otest.Weeks[i]), 'FVC'] = otest.FVC[i]\n",
    "    subm.loc[subm['Patient_Week']==otest.Patient[i]+'_'+str(otest.Weeks[i]), 'Confidence'] = 0.1"
   ]
  },
  {
   "cell_type": "code",
   "execution_count": 68,
   "metadata": {
    "execution": {
     "iopub.execute_input": "2020-09-19T13:21:49.018896Z",
     "iopub.status.busy": "2020-09-19T13:21:49.014959Z",
     "iopub.status.idle": "2020-09-19T13:21:49.025613Z",
     "shell.execute_reply": "2020-09-19T13:21:49.025002Z"
    },
    "papermill": {
     "duration": 0.121975,
     "end_time": "2020-09-19T13:21:49.025728",
     "exception": false,
     "start_time": "2020-09-19T13:21:48.903753",
     "status": "completed"
    },
    "tags": []
   },
   "outputs": [],
   "source": [
    "subm[[\"Patient_Week\",\"FVC\",\"Confidence\"]].to_csv(\"submission_regression.csv\", index=False)"
   ]
  },
  {
   "cell_type": "code",
   "execution_count": 69,
   "metadata": {
    "execution": {
     "iopub.execute_input": "2020-09-19T13:21:49.248815Z",
     "iopub.status.busy": "2020-09-19T13:21:49.246973Z",
     "iopub.status.idle": "2020-09-19T13:21:49.249583Z",
     "shell.execute_reply": "2020-09-19T13:21:49.250125Z"
    },
    "papermill": {
     "duration": 0.118622,
     "end_time": "2020-09-19T13:21:49.250252",
     "exception": false,
     "start_time": "2020-09-19T13:21:49.131630",
     "status": "completed"
    },
    "tags": []
   },
   "outputs": [],
   "source": [
    "reg_sub = subm[[\"Patient_Week\",\"FVC\",\"Confidence\"]].copy()"
   ]
  },
  {
   "cell_type": "markdown",
   "metadata": {
    "papermill": {
     "duration": 0.103892,
     "end_time": "2020-09-19T13:21:49.460637",
     "exception": false,
     "start_time": "2020-09-19T13:21:49.356745",
     "status": "completed"
    },
    "tags": []
   },
   "source": [
    "## 4.4 Ensemble and blending <a class=\"anchor\" id=\"4.4\"></a>\n",
    "\n",
    "[Back to Table of Contents](#0.1)"
   ]
  },
  {
   "cell_type": "code",
   "execution_count": 70,
   "metadata": {
    "execution": {
     "iopub.execute_input": "2020-09-19T13:21:49.678911Z",
     "iopub.status.busy": "2020-09-19T13:21:49.675132Z",
     "iopub.status.idle": "2020-09-19T13:21:49.681615Z",
     "shell.execute_reply": "2020-09-19T13:21:49.681100Z"
    },
    "papermill": {
     "duration": 0.117173,
     "end_time": "2020-09-19T13:21:49.681721",
     "exception": false,
     "start_time": "2020-09-19T13:21:49.564548",
     "status": "completed"
    },
    "tags": []
   },
   "outputs": [],
   "source": [
    "df1 = img_sub.sort_values(by=['Patient_Week'], ascending=True).reset_index(drop=True)\n",
    "df2 = reg_sub.sort_values(by=['Patient_Week'], ascending=True).reset_index(drop=True)"
   ]
  },
  {
   "cell_type": "code",
   "execution_count": 71,
   "metadata": {
    "execution": {
     "iopub.execute_input": "2020-09-19T13:21:49.911228Z",
     "iopub.status.busy": "2020-09-19T13:21:49.910190Z",
     "iopub.status.idle": "2020-09-19T13:21:49.915843Z",
     "shell.execute_reply": "2020-09-19T13:21:49.916411Z"
    },
    "papermill": {
     "duration": 0.129686,
     "end_time": "2020-09-19T13:21:49.916573",
     "exception": false,
     "start_time": "2020-09-19T13:21:49.786887",
     "status": "completed"
    },
    "tags": []
   },
   "outputs": [
    {
     "data": {
      "text/html": [
       "<div>\n",
       "<style scoped>\n",
       "    .dataframe tbody tr th:only-of-type {\n",
       "        vertical-align: middle;\n",
       "    }\n",
       "\n",
       "    .dataframe tbody tr th {\n",
       "        vertical-align: top;\n",
       "    }\n",
       "\n",
       "    .dataframe thead th {\n",
       "        text-align: right;\n",
       "    }\n",
       "</style>\n",
       "<table border=\"1\" class=\"dataframe\">\n",
       "  <thead>\n",
       "    <tr style=\"text-align: right;\">\n",
       "      <th></th>\n",
       "      <th>Patient_Week</th>\n",
       "      <th>FVC</th>\n",
       "      <th>Confidence</th>\n",
       "    </tr>\n",
       "  </thead>\n",
       "  <tbody>\n",
       "    <tr>\n",
       "      <th>0</th>\n",
       "      <td>ID00419637202311204720264_-1</td>\n",
       "      <td>2884.659245</td>\n",
       "      <td>217.413370</td>\n",
       "    </tr>\n",
       "    <tr>\n",
       "      <th>1</th>\n",
       "      <td>ID00419637202311204720264_-10</td>\n",
       "      <td>2909.992255</td>\n",
       "      <td>216.648751</td>\n",
       "    </tr>\n",
       "    <tr>\n",
       "      <th>2</th>\n",
       "      <td>ID00419637202311204720264_-11</td>\n",
       "      <td>2912.806964</td>\n",
       "      <td>216.563884</td>\n",
       "    </tr>\n",
       "    <tr>\n",
       "      <th>3</th>\n",
       "      <td>ID00419637202311204720264_-12</td>\n",
       "      <td>2915.621818</td>\n",
       "      <td>216.478970</td>\n",
       "    </tr>\n",
       "    <tr>\n",
       "      <th>4</th>\n",
       "      <td>ID00419637202311204720264_-2</td>\n",
       "      <td>2887.474050</td>\n",
       "      <td>217.328407</td>\n",
       "    </tr>\n",
       "  </tbody>\n",
       "</table>\n",
       "</div>"
      ],
      "text/plain": [
       "                    Patient_Week          FVC  Confidence\n",
       "0   ID00419637202311204720264_-1  2884.659245  217.413370\n",
       "1  ID00419637202311204720264_-10  2909.992255  216.648751\n",
       "2  ID00419637202311204720264_-11  2912.806964  216.563884\n",
       "3  ID00419637202311204720264_-12  2915.621818  216.478970\n",
       "4   ID00419637202311204720264_-2  2887.474050  217.328407"
      ]
     },
     "execution_count": 71,
     "metadata": {},
     "output_type": "execute_result"
    }
   ],
   "source": [
    "df = df1[['Patient_Week']].copy()\n",
    "df['FVC'] = FVC_weight*df1['FVC'] + (1-FVC_weight)*df2['FVC']\n",
    "df['Confidence'] = Confidence_weight*df1['Confidence'] + (1-Confidence_weight)*df2['Confidence']\n",
    "df.head()"
   ]
  },
  {
   "cell_type": "code",
   "execution_count": 72,
   "metadata": {
    "execution": {
     "iopub.execute_input": "2020-09-19T13:21:50.145467Z",
     "iopub.status.busy": "2020-09-19T13:21:50.144483Z",
     "iopub.status.idle": "2020-09-19T13:21:50.154135Z",
     "shell.execute_reply": "2020-09-19T13:21:50.153538Z"
    },
    "papermill": {
     "duration": 0.119758,
     "end_time": "2020-09-19T13:21:50.154253",
     "exception": false,
     "start_time": "2020-09-19T13:21:50.034495",
     "status": "completed"
    },
    "tags": []
   },
   "outputs": [],
   "source": [
    "df.to_csv('submission.csv', index=False)"
   ]
  },
  {
   "cell_type": "markdown",
   "metadata": {
    "papermill": {
     "duration": 0.167369,
     "end_time": "2020-09-19T13:21:50.436522",
     "exception": false,
     "start_time": "2020-09-19T13:21:50.269153",
     "status": "completed"
    },
    "tags": []
   },
   "source": [
    "[Go to Top](#0)"
   ]
  }
 ],
 "metadata": {
  "kernelspec": {
   "display_name": "Python 3",
   "language": "python",
   "name": "python3"
  },
  "language_info": {
   "codemirror_mode": {
    "name": "ipython",
    "version": 3
   },
   "file_extension": ".py",
   "mimetype": "text/x-python",
   "name": "python",
   "nbconvert_exporter": "python",
   "pygments_lexer": "ipython3",
   "version": "3.7.6"
  },
  "papermill": {
   "duration": 1330.496484,
   "end_time": "2020-09-19T13:21:52.385774",
   "environment_variables": {},
   "exception": null,
   "input_path": "__notebook__.ipynb",
   "output_path": "__notebook__.ipynb",
   "parameters": {},
   "start_time": "2020-09-19T12:59:41.889290",
   "version": "2.1.0"
  },
  "widgets": {
   "application/vnd.jupyter.widget-state+json": {
    "state": {
     "0ff579021a8f4ae5912166a6716be34a": {
      "model_module": "@jupyter-widgets/base",
      "model_module_version": "1.2.0",
      "model_name": "LayoutModel",
      "state": {
       "_model_module": "@jupyter-widgets/base",
       "_model_module_version": "1.2.0",
       "_model_name": "LayoutModel",
       "_view_count": null,
       "_view_module": "@jupyter-widgets/base",
       "_view_module_version": "1.2.0",
       "_view_name": "LayoutView",
       "align_content": null,
       "align_items": null,
       "align_self": null,
       "border": null,
       "bottom": null,
       "display": null,
       "flex": null,
       "flex_flow": null,
       "grid_area": null,
       "grid_auto_columns": null,
       "grid_auto_flow": null,
       "grid_auto_rows": null,
       "grid_column": null,
       "grid_gap": null,
       "grid_row": null,
       "grid_template_areas": null,
       "grid_template_columns": null,
       "grid_template_rows": null,
       "height": null,
       "justify_content": null,
       "justify_items": null,
       "left": null,
       "margin": null,
       "max_height": null,
       "max_width": null,
       "min_height": null,
       "min_width": null,
       "object_fit": null,
       "object_position": null,
       "order": null,
       "overflow": null,
       "overflow_x": null,
       "overflow_y": null,
       "padding": null,
       "right": null,
       "top": null,
       "visibility": null,
       "width": null
      }
     },
     "19aa5156e61e46149dbb1614db4fe7ac": {
      "model_module": "@jupyter-widgets/controls",
      "model_module_version": "1.5.0",
      "model_name": "HBoxModel",
      "state": {
       "_dom_classes": [],
       "_model_module": "@jupyter-widgets/controls",
       "_model_module_version": "1.5.0",
       "_model_name": "HBoxModel",
       "_view_count": null,
       "_view_module": "@jupyter-widgets/controls",
       "_view_module_version": "1.5.0",
       "_view_name": "HBoxView",
       "box_style": "",
       "children": [
        "IPY_MODEL_835d942df26b43cbbeb00754c6385c2d",
        "IPY_MODEL_d206c08dd69c4a86a5e186915beae679"
       ],
       "layout": "IPY_MODEL_0ff579021a8f4ae5912166a6716be34a"
      }
     },
     "29cfd4250eee4b6c9aa128e5d853abbe": {
      "model_module": "@jupyter-widgets/controls",
      "model_module_version": "1.5.0",
      "model_name": "HTMLModel",
      "state": {
       "_dom_classes": [],
       "_model_module": "@jupyter-widgets/controls",
       "_model_module_version": "1.5.0",
       "_model_name": "HTMLModel",
       "_view_count": null,
       "_view_module": "@jupyter-widgets/controls",
       "_view_module_version": "1.5.0",
       "_view_name": "HTMLView",
       "description": "",
       "description_tooltip": null,
       "layout": "IPY_MODEL_d69e3ba925514cdc89287497fff29ac3",
       "placeholder": "​",
       "style": "IPY_MODEL_b80a232687a24438afe56a93d3a59916",
       "value": " 176/? [00:01&lt;00:00, 110.50it/s]"
      }
     },
     "3748cdbb851c4c23bcab6eb20042b945": {
      "model_module": "@jupyter-widgets/controls",
      "model_module_version": "1.5.0",
      "model_name": "DescriptionStyleModel",
      "state": {
       "_model_module": "@jupyter-widgets/controls",
       "_model_module_version": "1.5.0",
       "_model_name": "DescriptionStyleModel",
       "_view_count": null,
       "_view_module": "@jupyter-widgets/base",
       "_view_module_version": "1.2.0",
       "_view_name": "StyleView",
       "description_width": ""
      }
     },
     "3adfe1bb2c20408a87489195bb745cfd": {
      "model_module": "@jupyter-widgets/base",
      "model_module_version": "1.2.0",
      "model_name": "LayoutModel",
      "state": {
       "_model_module": "@jupyter-widgets/base",
       "_model_module_version": "1.2.0",
       "_model_name": "LayoutModel",
       "_view_count": null,
       "_view_module": "@jupyter-widgets/base",
       "_view_module_version": "1.2.0",
       "_view_name": "LayoutView",
       "align_content": null,
       "align_items": null,
       "align_self": null,
       "border": null,
       "bottom": null,
       "display": null,
       "flex": null,
       "flex_flow": null,
       "grid_area": null,
       "grid_auto_columns": null,
       "grid_auto_flow": null,
       "grid_auto_rows": null,
       "grid_column": null,
       "grid_gap": null,
       "grid_row": null,
       "grid_template_areas": null,
       "grid_template_columns": null,
       "grid_template_rows": null,
       "height": null,
       "justify_content": null,
       "justify_items": null,
       "left": null,
       "margin": null,
       "max_height": null,
       "max_width": null,
       "min_height": null,
       "min_width": null,
       "object_fit": null,
       "object_position": null,
       "order": null,
       "overflow": null,
       "overflow_x": null,
       "overflow_y": null,
       "padding": null,
       "right": null,
       "top": null,
       "visibility": null,
       "width": null
      }
     },
     "3e85359b846749a59b73681a4b064063": {
      "model_module": "@jupyter-widgets/controls",
      "model_module_version": "1.5.0",
      "model_name": "HBoxModel",
      "state": {
       "_dom_classes": [],
       "_model_module": "@jupyter-widgets/controls",
       "_model_module_version": "1.5.0",
       "_model_name": "HBoxModel",
       "_view_count": null,
       "_view_module": "@jupyter-widgets/controls",
       "_view_module_version": "1.5.0",
       "_view_name": "HBoxView",
       "box_style": "",
       "children": [
        "IPY_MODEL_b90baa9292b44988a80424626927ef6a",
        "IPY_MODEL_29cfd4250eee4b6c9aa128e5d853abbe"
       ],
       "layout": "IPY_MODEL_9220893c6c7d4da3b68e1ab408785bef"
      }
     },
     "7897ae716e794b64b7f034d210a12b58": {
      "model_module": "@jupyter-widgets/base",
      "model_module_version": "1.2.0",
      "model_name": "LayoutModel",
      "state": {
       "_model_module": "@jupyter-widgets/base",
       "_model_module_version": "1.2.0",
       "_model_name": "LayoutModel",
       "_view_count": null,
       "_view_module": "@jupyter-widgets/base",
       "_view_module_version": "1.2.0",
       "_view_name": "LayoutView",
       "align_content": null,
       "align_items": null,
       "align_self": null,
       "border": null,
       "bottom": null,
       "display": null,
       "flex": null,
       "flex_flow": null,
       "grid_area": null,
       "grid_auto_columns": null,
       "grid_auto_flow": null,
       "grid_auto_rows": null,
       "grid_column": null,
       "grid_gap": null,
       "grid_row": null,
       "grid_template_areas": null,
       "grid_template_columns": null,
       "grid_template_rows": null,
       "height": null,
       "justify_content": null,
       "justify_items": null,
       "left": null,
       "margin": null,
       "max_height": null,
       "max_width": null,
       "min_height": null,
       "min_width": null,
       "object_fit": null,
       "object_position": null,
       "order": null,
       "overflow": null,
       "overflow_x": null,
       "overflow_y": null,
       "padding": null,
       "right": null,
       "top": null,
       "visibility": null,
       "width": null
      }
     },
     "835d942df26b43cbbeb00754c6385c2d": {
      "model_module": "@jupyter-widgets/controls",
      "model_module_version": "1.5.0",
      "model_name": "FloatProgressModel",
      "state": {
       "_dom_classes": [],
       "_model_module": "@jupyter-widgets/controls",
       "_model_module_version": "1.5.0",
       "_model_name": "FloatProgressModel",
       "_view_count": null,
       "_view_module": "@jupyter-widgets/controls",
       "_view_module_version": "1.5.0",
       "_view_name": "ProgressView",
       "bar_style": "success",
       "description": "100%",
       "description_tooltip": null,
       "layout": "IPY_MODEL_7897ae716e794b64b7f034d210a12b58",
       "max": 9.0,
       "min": 0.0,
       "orientation": "horizontal",
       "style": "IPY_MODEL_cc56f98f874a42d78be37f92baa7aeb8",
       "value": 9.0
      }
     },
     "843cde5f377a4b30abfd8ef7b6ee50e2": {
      "model_module": "@jupyter-widgets/controls",
      "model_module_version": "1.5.0",
      "model_name": "ProgressStyleModel",
      "state": {
       "_model_module": "@jupyter-widgets/controls",
       "_model_module_version": "1.5.0",
       "_model_name": "ProgressStyleModel",
       "_view_count": null,
       "_view_module": "@jupyter-widgets/base",
       "_view_module_version": "1.2.0",
       "_view_name": "StyleView",
       "bar_color": null,
       "description_width": "initial"
      }
     },
     "9220893c6c7d4da3b68e1ab408785bef": {
      "model_module": "@jupyter-widgets/base",
      "model_module_version": "1.2.0",
      "model_name": "LayoutModel",
      "state": {
       "_model_module": "@jupyter-widgets/base",
       "_model_module_version": "1.2.0",
       "_model_name": "LayoutModel",
       "_view_count": null,
       "_view_module": "@jupyter-widgets/base",
       "_view_module_version": "1.2.0",
       "_view_name": "LayoutView",
       "align_content": null,
       "align_items": null,
       "align_self": null,
       "border": null,
       "bottom": null,
       "display": null,
       "flex": null,
       "flex_flow": null,
       "grid_area": null,
       "grid_auto_columns": null,
       "grid_auto_flow": null,
       "grid_auto_rows": null,
       "grid_column": null,
       "grid_gap": null,
       "grid_row": null,
       "grid_template_areas": null,
       "grid_template_columns": null,
       "grid_template_rows": null,
       "height": null,
       "justify_content": null,
       "justify_items": null,
       "left": null,
       "margin": null,
       "max_height": null,
       "max_width": null,
       "min_height": null,
       "min_width": null,
       "object_fit": null,
       "object_position": null,
       "order": null,
       "overflow": null,
       "overflow_x": null,
       "overflow_y": null,
       "padding": null,
       "right": null,
       "top": null,
       "visibility": null,
       "width": null
      }
     },
     "b80a232687a24438afe56a93d3a59916": {
      "model_module": "@jupyter-widgets/controls",
      "model_module_version": "1.5.0",
      "model_name": "DescriptionStyleModel",
      "state": {
       "_model_module": "@jupyter-widgets/controls",
       "_model_module_version": "1.5.0",
       "_model_name": "DescriptionStyleModel",
       "_view_count": null,
       "_view_module": "@jupyter-widgets/base",
       "_view_module_version": "1.2.0",
       "_view_name": "StyleView",
       "description_width": ""
      }
     },
     "b90baa9292b44988a80424626927ef6a": {
      "model_module": "@jupyter-widgets/controls",
      "model_module_version": "1.5.0",
      "model_name": "FloatProgressModel",
      "state": {
       "_dom_classes": [],
       "_model_module": "@jupyter-widgets/controls",
       "_model_module_version": "1.5.0",
       "_model_name": "FloatProgressModel",
       "_view_count": null,
       "_view_module": "@jupyter-widgets/controls",
       "_view_module_version": "1.5.0",
       "_view_name": "ProgressView",
       "bar_style": "success",
       "description": "",
       "description_tooltip": null,
       "layout": "IPY_MODEL_d2f62a848f894f03950094066a3b4e79",
       "max": 1.0,
       "min": 0.0,
       "orientation": "horizontal",
       "style": "IPY_MODEL_843cde5f377a4b30abfd8ef7b6ee50e2",
       "value": 1.0
      }
     },
     "cc56f98f874a42d78be37f92baa7aeb8": {
      "model_module": "@jupyter-widgets/controls",
      "model_module_version": "1.5.0",
      "model_name": "ProgressStyleModel",
      "state": {
       "_model_module": "@jupyter-widgets/controls",
       "_model_module_version": "1.5.0",
       "_model_name": "ProgressStyleModel",
       "_view_count": null,
       "_view_module": "@jupyter-widgets/base",
       "_view_module_version": "1.2.0",
       "_view_name": "StyleView",
       "bar_color": null,
       "description_width": "initial"
      }
     },
     "d206c08dd69c4a86a5e186915beae679": {
      "model_module": "@jupyter-widgets/controls",
      "model_module_version": "1.5.0",
      "model_name": "HTMLModel",
      "state": {
       "_dom_classes": [],
       "_model_module": "@jupyter-widgets/controls",
       "_model_module_version": "1.5.0",
       "_model_name": "HTMLModel",
       "_view_count": null,
       "_view_module": "@jupyter-widgets/controls",
       "_view_module_version": "1.5.0",
       "_view_name": "HTMLView",
       "description": "",
       "description_tooltip": null,
       "layout": "IPY_MODEL_3adfe1bb2c20408a87489195bb745cfd",
       "placeholder": "​",
       "style": "IPY_MODEL_3748cdbb851c4c23bcab6eb20042b945",
       "value": " 9/9 [18:41&lt;00:00, 124.63s/it]"
      }
     },
     "d2f62a848f894f03950094066a3b4e79": {
      "model_module": "@jupyter-widgets/base",
      "model_module_version": "1.2.0",
      "model_name": "LayoutModel",
      "state": {
       "_model_module": "@jupyter-widgets/base",
       "_model_module_version": "1.2.0",
       "_model_name": "LayoutModel",
       "_view_count": null,
       "_view_module": "@jupyter-widgets/base",
       "_view_module_version": "1.2.0",
       "_view_name": "LayoutView",
       "align_content": null,
       "align_items": null,
       "align_self": null,
       "border": null,
       "bottom": null,
       "display": null,
       "flex": null,
       "flex_flow": null,
       "grid_area": null,
       "grid_auto_columns": null,
       "grid_auto_flow": null,
       "grid_auto_rows": null,
       "grid_column": null,
       "grid_gap": null,
       "grid_row": null,
       "grid_template_areas": null,
       "grid_template_columns": null,
       "grid_template_rows": null,
       "height": null,
       "justify_content": null,
       "justify_items": null,
       "left": null,
       "margin": null,
       "max_height": null,
       "max_width": null,
       "min_height": null,
       "min_width": null,
       "object_fit": null,
       "object_position": null,
       "order": null,
       "overflow": null,
       "overflow_x": null,
       "overflow_y": null,
       "padding": null,
       "right": null,
       "top": null,
       "visibility": null,
       "width": null
      }
     },
     "d69e3ba925514cdc89287497fff29ac3": {
      "model_module": "@jupyter-widgets/base",
      "model_module_version": "1.2.0",
      "model_name": "LayoutModel",
      "state": {
       "_model_module": "@jupyter-widgets/base",
       "_model_module_version": "1.2.0",
       "_model_name": "LayoutModel",
       "_view_count": null,
       "_view_module": "@jupyter-widgets/base",
       "_view_module_version": "1.2.0",
       "_view_name": "LayoutView",
       "align_content": null,
       "align_items": null,
       "align_self": null,
       "border": null,
       "bottom": null,
       "display": null,
       "flex": null,
       "flex_flow": null,
       "grid_area": null,
       "grid_auto_columns": null,
       "grid_auto_flow": null,
       "grid_auto_rows": null,
       "grid_column": null,
       "grid_gap": null,
       "grid_row": null,
       "grid_template_areas": null,
       "grid_template_columns": null,
       "grid_template_rows": null,
       "height": null,
       "justify_content": null,
       "justify_items": null,
       "left": null,
       "margin": null,
       "max_height": null,
       "max_width": null,
       "min_height": null,
       "min_width": null,
       "object_fit": null,
       "object_position": null,
       "order": null,
       "overflow": null,
       "overflow_x": null,
       "overflow_y": null,
       "padding": null,
       "right": null,
       "top": null,
       "visibility": null,
       "width": null
      }
     }
    },
    "version_major": 2,
    "version_minor": 0
   }
  }
 },
 "nbformat": 4,
 "nbformat_minor": 4
}
